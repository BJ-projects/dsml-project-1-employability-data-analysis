{
 "cells": [
  {
   "cell_type": "code",
   "execution_count": 57,
   "metadata": {},
   "outputs": [],
   "source": [
    "import pandas as pd\n",
    "import matplotlib.pyplot as plt\n",
    "import seaborn as sns"
   ]
  },
  {
   "cell_type": "code",
   "execution_count": 58,
   "metadata": {},
   "outputs": [],
   "source": [
    "data = pd.read_excel(\"../private_data/data/cleaned_data/cleaned_data.xlsx\")"
   ]
  },
  {
   "cell_type": "code",
   "execution_count": 59,
   "metadata": {},
   "outputs": [
    {
     "data": {
      "text/plain": [
       "Index(['Unnamed: 0', 'ct_student_id', 'cohort_start_month', 'cohort_language',\n",
       "       'pre_bootcamp_coding_experience', 'post_bootcamp_situation',\n",
       "       'job_country', 'time_to_job', 'did_bootcamp_helped',\n",
       "       'job_success_factors', 'is_job_hunting', 'job_hunt_blockers',\n",
       "       'search_country', 'company_interview_qty', 'job_search_week_hours',\n",
       "       'coding_week_hours', 'job_search_focus', 'new_learned_techs',\n",
       "       'new_projects_qty', 'did_create_portfolio', 'has_dev_job'],\n",
       "      dtype='object')"
      ]
     },
     "execution_count": 59,
     "metadata": {},
     "output_type": "execute_result"
    }
   ],
   "source": [
    "data.columns"
   ]
  },
  {
   "cell_type": "code",
   "execution_count": null,
   "metadata": {},
   "outputs": [],
   "source": [
    "# only students with no dev job and not actively looking for a job anymore (does not count 7 students that took right path by mistake)\n",
    "students_with_blockers = data[data[\"job_hunt_blockers\"].notnull()] "
   ]
  },
  {
   "cell_type": "code",
   "execution_count": 61,
   "metadata": {},
   "outputs": [
    {
     "data": {
      "text/plain": [
       "np.int64(28)"
      ]
     },
     "execution_count": 61,
     "metadata": {},
     "output_type": "execute_result"
    }
   ],
   "source": [
    "students_with_blockers[\"ct_student_id\"].count()"
   ]
  },
  {
   "cell_type": "code",
   "execution_count": 62,
   "metadata": {},
   "outputs": [
    {
     "data": {
      "text/plain": [
       "job_hunt_blockers\n",
       "Other                                   19\n",
       "Frustration with the process            11\n",
       "Lack of confidence                      11\n",
       "Focusing on Personal life                8\n",
       "Feeling overwhelmed                      7\n",
       "Lack of motivation                       5\n",
       "Did not see many job offers              5\n",
       "Lack of guidance                         2\n",
       "I learned that web dev is not for me     2\n",
       "Name: count, dtype: int64"
      ]
     },
     "execution_count": 62,
     "metadata": {},
     "output_type": "execute_result"
    }
   ],
   "source": [
    "# Step-by-step breakdown\n",
    "all_blockers = students_with_blockers['job_hunt_blockers'] \\\n",
    "    .str.split(',') \\\n",
    "    .explode() \\\n",
    "    .str.strip()\n",
    "\n",
    "# Count frequency\n",
    "all_blockers.value_counts()"
   ]
  }
 ],
 "metadata": {
  "kernelspec": {
   "display_name": "Python 3",
   "language": "python",
   "name": "python3"
  },
  "language_info": {
   "codemirror_mode": {
    "name": "ipython",
    "version": 3
   },
   "file_extension": ".py",
   "mimetype": "text/x-python",
   "name": "python",
   "nbconvert_exporter": "python",
   "pygments_lexer": "ipython3",
   "version": "3.13.2"
  }
 },
 "nbformat": 4,
 "nbformat_minor": 2
}
