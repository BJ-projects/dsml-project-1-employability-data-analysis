{
 "cells": [
  {
   "cell_type": "code",
   "execution_count": null,
   "metadata": {},
   "outputs": [],
   "source": [
    "import sys\n",
    "import os\n",
    "import pandas as pd\n",
    "import matplotlib.pyplot as plt\n",
    "import seaborn as sns\n",
    "from IPython.display import Markdown\n",
    "\n",
    "sys.path.append(os.path.abspath(os.path.join(os.getcwd(), \"../scripts/eda/\")))\n",
    "from render_group_by_column_vs_has_dev_job import render_group_by_column_vs_has_dev_job"
   ]
  },
  {
   "cell_type": "code",
   "execution_count": null,
   "metadata": {},
   "outputs": [],
   "source": [
    "data = pd.read_excel(\"../private_data/data/cleaned_data/cleaned_data.xlsx\")"
   ]
  },
  {
   "cell_type": "markdown",
   "metadata": {},
   "source": [
    "## Filter students that found a job but it's not related to the bootcamp\n",
    "\n",
    "We'll considering only students that found a dev job AND students that did not find a job. <br>\n",
    "\n",
    "ie. for the analysis, we're not considering students that found a job but it's not related to the bootcamp (at least for now, since we don't have relevant data about them)\n",
    "\n"
   ]
  },
  {
   "cell_type": "code",
   "execution_count": null,
   "metadata": {},
   "outputs": [],
   "source": [
    "#\n",
    "# IMPORTANT: for this analysis we're using only students that found a dev job AND students that didn't find a job.\n",
    "#\n",
    "# (ie. we're not considering students that found a job but it's not related to the bootcamp)\n",
    "#\n",
    "\n",
    "data = data[(data[\"post_bootcamp_situation\"] != \"I found a job, but is not related to the bootcamp\")]\n",
    "\n"
   ]
  },
  {
   "cell_type": "markdown",
   "metadata": {},
   "source": [
    "## EDA"
   ]
  },
  {
   "cell_type": "code",
   "execution_count": null,
   "metadata": {},
   "outputs": [],
   "source": [
    "#\n",
    "# students that spend more time applying for jobs, have higher chances of getting a job.\n",
    "#\n",
    "\n",
    "display(Markdown(\"<br>\"))\n",
    "display(Markdown(\"### Hours searching\"))\n",
    "data_to_analyze = data\n",
    "render_group_by_column_vs_has_dev_job(data_to_analyze, \"job_search_week_hours\")\n"
   ]
  },
  {
   "cell_type": "code",
   "execution_count": null,
   "metadata": {},
   "outputs": [],
   "source": [
    "#\n",
    "# students that spend more time coding, have higher chances of getting a job.\n",
    "#\n",
    "\n",
    "# all students\n",
    "display(Markdown(\"<br>\"))\n",
    "display(Markdown(\"### Hours coding (all students)\"))\n",
    "data_to_analyze = data\n",
    "render_group_by_column_vs_has_dev_job(data_to_analyze, \"coding_week_hours\")\n",
    "\n",
    "\n",
    "\n",
    "# only recent students\n",
    "# display(Markdown(\"<br>\"))\n",
    "# display(Markdown(\"### Hours coding (only recent students)\"))\n",
    "# students_2023_and_2024 = data[data[\"cohort_start_month\"].str.startswith((\"2023\", \"2024\"))]\n",
    "# render_group_by_column_vs_has_dev_job(students_2023_and_2024, \"coding_week_hours\")"
   ]
  },
  {
   "cell_type": "code",
   "execution_count": null,
   "metadata": {},
   "outputs": [],
   "source": [
    "#\n",
    "# students that spend more time in total (searching + coding), have higher chances of getting a job.\n",
    "#\n",
    "\n",
    "# all students\n",
    "display(Markdown(\"<br>\"))\n",
    "display(Markdown(\"### Total hours (searching + coding)\"))\n",
    "data_to_analyze = data\n",
    "render_group_by_column_vs_has_dev_job(data_to_analyze, \"total_hours\")\n",
    "\n",
    "\n",
    "# only recent students\n",
    "# display(Markdown(\"<br>\"))\n",
    "# display(Markdown(\"### Total hours (searching + coding) (only recent students)\"))\n",
    "# students_2023_and_2024 = data[data[\"cohort_start_month\"].str.startswith((\"2023\", \"2024\"))]\n",
    "# render_group_by_column_vs_has_dev_job(students_2023_and_2024, \"total_hours\")\n"
   ]
  },
  {
   "cell_type": "code",
   "execution_count": null,
   "metadata": {},
   "outputs": [],
   "source": [
    "#\n",
    "# students that keep a good balance between hours searching & hours coding, have higher chances of getting a job.\n",
    "#\n",
    "\n",
    "# all students\n",
    "display(Markdown(\"<br>\"))\n",
    "display(Markdown(\"### Workload balance\"))\n",
    "display(Markdown(\"- zero == similar workload (ie. spent a similar amount of time searching than coding)\"))\n",
    "display(Markdown(\"- negative == more hours coding\"))\n",
    "display(Markdown(\"- positive == more hours searching\"))\n",
    "data_to_analyze = data\n",
    "render_group_by_column_vs_has_dev_job(data_to_analyze, \"workload_balance_diff\")\n",
    "\n",
    "# # only students with a minimum workload\n",
    "# display(Markdown(\"<br>\"))\n",
    "# display(Markdown(\"### Workload balance (only students with a minimum workload)\"))\n",
    "# students_with_min_workload = data[data[\"total_hours\"] >= 15]\n",
    "# render_group_by_column_vs_has_dev_job(students_with_min_workload, \"workload_balance_diff\")\n",
    "\n",
    "\n",
    "# # only recent students\n",
    "# display(Markdown(\"<br>\"))\n",
    "# display(Markdown(\"### Workload balance (only recent students)\"))\n",
    "# students_2023_and_2024 = data[data[\"cohort_start_month\"].str.startswith((\"2023\", \"2024\"))]\n",
    "# render_group_by_column_vs_has_dev_job(students_2023_and_2024, \"workload_balance_diff\")\n",
    "\n",
    "\n"
   ]
  },
  {
   "cell_type": "code",
   "execution_count": null,
   "metadata": {},
   "outputs": [],
   "source": [
    "#\n",
    "# time to job per job search hours\n",
    "#\n",
    "data.groupby(\"time_to_job\").agg({\"job_search_week_hours\": \"count\"})\n",
    "\n",
    "students_that_found_dev_job = data[data[\"has_dev_job\"] == True]\n",
    "\n",
    "result = students_that_found_dev_job.groupby(\"time_to_job\").agg(\n",
    "  less_than_5=(\"job_search_week_hours\", lambda x: (x == \"Less than 5\").sum()),\n",
    "  between_5_and_10=(\"job_search_week_hours\", lambda x: (x == \"Between 5 and 10\").sum()),\n",
    "  between_10_and_20=(\"job_search_week_hours\", lambda x: (x == \"Between 10 and 20\").sum()),\n",
    "  between_20_and_30=(\"job_search_week_hours\", lambda x: (x == \"Between 20 and 30\").sum()),\n",
    "  more_than_30=(\"job_search_week_hours\", lambda x: (x == \"More than 30\").sum())\n",
    ")\n",
    "\n",
    "categories = [\n",
    "  'Less than 2 months',\n",
    "  '3-4 months',\n",
    "  '5-6 months',\n",
    "  'More than 6 months'\n",
    "]\n",
    "\n",
    "result.index = pd.CategoricalIndex(\n",
    "  result.index,\n",
    "  categories=categories,\n",
    "  ordered=True\n",
    "  )\n",
    "\n",
    "# Sort by the index (which is now an ordered categorical)\n",
    "result = result.sort_index()\n",
    "\n",
    "plt.figure(figsize=(12, 6))\n",
    "sns.heatmap(result,  annot=True, fmt='g', cmap='Blues')\n",
    "plt.title(\"Time to Job per Job Search Hours\")\n",
    "plt.ylabel(\"Time To Job\")\n",
    "plt.xlabel(\"Job Search Hours\")\n",
    "plt.show()"
   ]
  },
  {
   "cell_type": "code",
   "execution_count": null,
   "metadata": {},
   "outputs": [],
   "source": [
    "#\n",
    "# time to job per coding hours\n",
    "#\n",
    "data.groupby(\"time_to_job\").agg({\"coding_week_hours\": \"count\"})\n",
    "\n",
    "students_that_found_dev_job = data[data[\"has_dev_job\"] == True]\n",
    "\n",
    "result = students_that_found_dev_job.groupby(\"time_to_job\").agg(\n",
    "  less_than_5=(\"coding_week_hours\", lambda x: (x == \"Less than 5\").sum()),\n",
    "  between_5_and_10=(\"coding_week_hours\", lambda x: (x == \"Between 5 and 10\").sum()),\n",
    "  between_10_and_20=(\"coding_week_hours\", lambda x: (x == \"Between 10 and 20\").sum()),\n",
    "  between_20_and_30=(\"coding_week_hours\", lambda x: (x == \"Between 20 and 30\").sum()),\n",
    "  more_than_30=(\"coding_week_hours\", lambda x: (x == \"More than 30\").sum())\n",
    ")\n",
    "\n",
    "categories = [\n",
    "  'Less than 2 months',\n",
    "  '3-4 months',\n",
    "  '5-6 months',\n",
    "  'More than 6 months'\n",
    "]\n",
    "\n",
    "result.index = pd.CategoricalIndex(\n",
    "  result.index,\n",
    "  categories=categories,\n",
    "  ordered=True\n",
    "  )\n",
    "\n",
    "# Sort by the index (which is now an ordered categorical)\n",
    "result = result.sort_index()\n",
    "\n",
    "plt.figure(figsize=(12, 6))\n",
    "sns.heatmap(result,  annot=True, fmt='g', cmap='Blues')\n",
    "plt.title(\"Time to Job per Coding Hours\")\n",
    "plt.ylabel(\"Time To Job\")\n",
    "plt.xlabel(\"Coding Hours\")\n",
    "plt.show()"
   ]
  }
 ],
 "metadata": {
  "kernelspec": {
   "display_name": "Python 3",
   "language": "python",
   "name": "python3"
  },
  "language_info": {
   "codemirror_mode": {
    "name": "ipython",
    "version": 3
   },
   "file_extension": ".py",
   "mimetype": "text/x-python",
   "name": "python",
   "nbconvert_exporter": "python",
   "pygments_lexer": "ipython3",
   "version": "3.13.2"
  }
 },
 "nbformat": 4,
 "nbformat_minor": 2
}
