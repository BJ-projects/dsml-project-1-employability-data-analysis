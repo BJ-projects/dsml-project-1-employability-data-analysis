{
 "cells": [
  {
   "cell_type": "code",
   "execution_count": null,
   "metadata": {},
   "outputs": [],
   "source": [
    "import pandas as pd\n",
    "import matplotlib.pyplot as plt\n",
    "import seaborn as sns\n"
   ]
  },
  {
   "cell_type": "code",
   "execution_count": null,
   "metadata": {},
   "outputs": [],
   "source": [
    "data = pd.read_excel(\"../private_data/data/cleaned_data/cleaned_data.xlsx\")"
   ]
  },
  {
   "cell_type": "code",
   "execution_count": null,
   "metadata": {},
   "outputs": [],
   "source": [
    "# TEMP\n",
    "data.groupby(\"did_bootcamp_helped\").agg({\"ct_student_id\": \"count\"})"
   ]
  },
  {
   "cell_type": "code",
   "execution_count": null,
   "metadata": {},
   "outputs": [],
   "source": [
    "# IMPORTANT: Temp. Adding only students that found no job or dev job. Removing 21 students. Total 91.\n",
    "data = data[(data[\"post_bootcamp_situation\"] != \"I found a job, but is not related to the bootcamp\")]\n",
    "data.shape\n"
   ]
  },
  {
   "cell_type": "markdown",
   "metadata": {},
   "source": [
    "# Helper functions"
   ]
  },
  {
   "cell_type": "code",
   "execution_count": null,
   "metadata": {},
   "outputs": [],
   "source": [
    "def render_group_by_per_hours_and_dev_job(df, column_to_render):\n",
    "\n",
    "  result = df.groupby(column_to_render).agg(\n",
    "    total_students=(\"ct_student_id\", \"count\"), \n",
    "    has_dev_job_true=(\"has_dev_job\", lambda x: (x == True).sum()),\n",
    "    has_dev_job_false=(\"has_dev_job\", lambda x: (x == False).sum())\n",
    "  )\n",
    "\n",
    "  # Define the correct order of the categories\n",
    "  ordered_categories_dict = {\n",
    "    \"did_create_portfolio\": [\n",
    "      False,\n",
    "      True,\n",
    "    ],\n",
    "    \"new_projects_qty\": [\n",
    "      'No Projects', \n",
    "      '1 Project', \n",
    "      '2 to 3 Projects',\n",
    "      'More than 3 Projects'\n",
    "    ],\n",
    "    \"job_search_week_hours\": [\n",
    "      \"Less than 5\",\n",
    "      \"Between 5 and 10\",\n",
    "      \"Between 10 and 20\",\n",
    "      \"Between 20 and 30\",\n",
    "      \"More than 30\"\n",
    "    ],\n",
    "    \"coding_week_hours\": [\n",
    "      \"Less than 5\",\n",
    "      \"Between 5 and 10\",\n",
    "      \"Between 10 and 20\",\n",
    "      \"Between 20 and 30\",\n",
    "      \"More than 30\"\n",
    "    ],\n",
    "    \"company_interview_qty\": [\n",
    "      \"0 companies\",\n",
    "      \"1 company\",\n",
    "      \"2 companies\",\n",
    "      \"3 companies\",\n",
    "      \"4 companies\",\n",
    "      \"5 companies\",\n",
    "      \"6 companies\",\n",
    "      \"7 companies\",\n",
    "      \"8 companies\",\n",
    "      \"9 companies\",\n",
    "      \"10 or more companies\",\n",
    "    ]\n",
    "  }\n",
    "\n",
    "  # Convert index to ordered categorical\n",
    "  result.index = pd.CategoricalIndex(\n",
    "    result.index,\n",
    "    categories=ordered_categories_dict[column_to_render],\n",
    "    ordered=True\n",
    "  )\n",
    "\n",
    "  # Sort by the index (which is now an ordered categorical)\n",
    "  display(result.sort_index())\n",
    "\n"
   ]
  },
  {
   "cell_type": "code",
   "execution_count": null,
   "metadata": {},
   "outputs": [],
   "source": [
    "data.columns"
   ]
  },
  {
   "cell_type": "code",
   "execution_count": null,
   "metadata": {},
   "outputs": [],
   "source": [
    "# students that spend more time applying for jobs, have higher chances of getting a job.\n",
    "\n",
    "data_to_analyze = data\n",
    "render_group_by_per_hours_and_dev_job(data_to_analyze, \"job_search_week_hours\")\n"
   ]
  },
  {
   "cell_type": "markdown",
   "metadata": {},
   "source": [
    "# Preliminary conclusions\n",
    "\n",
    "- There doesn't seem to be a difference between students that find a dev job or not based on the quantity of hours invested in searching.\n",
    "\n",
    "- There doesn't seem to be a difference between students that find a dev job or not based on the quantity of hours invested in coding.\n",
    "  - Adding only two buckets (more than 10 hours and less than 10 hours) we noticed that students that dedicated more than 10 hours coding are more likely to get a dev job.\n",
    "- Students that fall on the middle on search job hours and coding hours (10 to 20) tend to get jobs earlier.\n",
    "  - There might be other factors as students that find a job later also are mostly within those 10 to 20 hour buckets.\n",
    "- Most students said the bootcamp did help them, so it might not be too relevant for EDA\n"
   ]
  },
  {
   "cell_type": "code",
   "execution_count": null,
   "metadata": {},
   "outputs": [],
   "source": [
    "# students that spend more time coding, have higher chances of getting a job.\n",
    "\n",
    "data_to_analyze = data\n",
    "render_group_by_per_hours_and_dev_job(data_to_analyze, \"coding_week_hours\")"
   ]
  },
  {
   "cell_type": "code",
   "execution_count": null,
   "metadata": {},
   "outputs": [],
   "source": [
    "# students that spend more time coding, have higher chances of getting a job. (only recent students)\n",
    "\n",
    "students_2023_and_2024 = data[data[\"cohort_start_month\"].str.startswith((\"2023\", \"2024\"))]\n",
    "render_group_by_per_hours_and_dev_job(students_2023_and_2024, \"coding_week_hours\")\n"
   ]
  },
  {
   "cell_type": "code",
   "execution_count": null,
   "metadata": {},
   "outputs": [],
   "source": [
    "# students that create projects, have higher chances of getting a job. new_projects_qty\n",
    "students_2023_and_2024 = data[data[\"cohort_start_month\"].str.startswith((\"2023\", \"2024\"))]\n",
    "render_group_by_per_hours_and_dev_job(students_2023_and_2024, \"new_projects_qty\")"
   ]
  },
  {
   "cell_type": "code",
   "execution_count": null,
   "metadata": {},
   "outputs": [],
   "source": [
    "# students that create a portfolio, have higher chances of getting a job\n",
    "students_2023_and_2024 = data[data[\"cohort_start_month\"].str.startswith((\"2023\", \"2024\"))]\n",
    "render_group_by_per_hours_and_dev_job(data, \"did_create_portfolio\")"
   ]
  },
  {
   "cell_type": "code",
   "execution_count": null,
   "metadata": {},
   "outputs": [],
   "source": [
    "# amount of interviews per getting a dev job\n",
    "students_2022 = data[data[\"cohort_start_month\"].str.startswith((\"2022\"))]\n",
    "render_group_by_per_hours_and_dev_job(students_2022, \"company_interview_qty\")"
   ]
  },
  {
   "cell_type": "code",
   "execution_count": null,
   "metadata": {},
   "outputs": [],
   "source": [
    "# amount of interviews per getting a dev job\n",
    "students_2023 = data[data[\"cohort_start_month\"].str.startswith((\"2023\"))]\n",
    "render_group_by_per_hours_and_dev_job(students_2023, \"company_interview_qty\")"
   ]
  },
  {
   "cell_type": "code",
   "execution_count": null,
   "metadata": {},
   "outputs": [],
   "source": [
    "# amount of interviews per getting a dev job\n",
    "students_2024 = data[data[\"cohort_start_month\"].str.startswith((\"2024\"))]\n",
    "render_group_by_per_hours_and_dev_job(students_2024, \"company_interview_qty\")"
   ]
  },
  {
   "cell_type": "code",
   "execution_count": null,
   "metadata": {},
   "outputs": [],
   "source": [
    "# time to job per job search hours\n",
    "data.groupby(\"time_to_job\").agg({\"job_search_week_hours\": \"count\"})\n",
    "\n",
    "students_that_found_dev_job = data[data[\"has_dev_job\"] == True]\n",
    "\n",
    "result = students_that_found_dev_job.groupby(\"time_to_job\").agg(\n",
    "  # total_students=(\"ct_student_id\", \"count\"), \n",
    "  less_than_5=(\"job_search_week_hours\", lambda x: (x == \"Less than 5\").sum()),\n",
    "  between_5_and_10=(\"job_search_week_hours\", lambda x: (x == \"Between 5 and 10\").sum()),\n",
    "  between_10_and_20=(\"job_search_week_hours\", lambda x: (x == \"Between 10 and 20\").sum()),\n",
    "  between_20_and_30=(\"job_search_week_hours\", lambda x: (x == \"Between 20 and 30\").sum()),\n",
    "  more_than_30=(\"job_search_week_hours\", lambda x: (x == \"More than 30\").sum())\n",
    ")\n",
    "\n",
    "categories = [\n",
    "  'Less than 2 months',\n",
    "  '3-4 months',\n",
    "  '5-6 months',\n",
    "  'More than 6 months'\n",
    "]\n",
    "\n",
    "result.index = pd.CategoricalIndex(\n",
    "  result.index,\n",
    "  categories=categories,\n",
    "  ordered=True\n",
    "  )\n",
    "\n",
    "# Sort by the index (which is now an ordered categorical)\n",
    "result = result.sort_index()\n",
    "\n",
    "plt.figure(figsize=(12, 6))\n",
    "sns.heatmap(result,  annot=True, fmt='g', cmap='Blues')\n",
    "plt.title(\"Time to Job per Job Search Hours\")\n",
    "plt.ylabel(\"Time To Job\")\n",
    "plt.xlabel(\"Job Search Hours\")\n",
    "plt.show()"
   ]
  },
  {
   "cell_type": "code",
   "execution_count": null,
   "metadata": {},
   "outputs": [],
   "source": [
    "# time to job per coding hours\n",
    "data.groupby(\"time_to_job\").agg({\"coding_week_hours\": \"count\"})\n",
    "\n",
    "students_that_found_dev_job = data[data[\"has_dev_job\"] == True]\n",
    "\n",
    "result = students_that_found_dev_job.groupby(\"time_to_job\").agg(\n",
    "  # total_students=(\"ct_student_id\", \"count\"), \n",
    "  less_than_5=(\"coding_week_hours\", lambda x: (x == \"Less than 5\").sum()),\n",
    "  between_5_and_10=(\"coding_week_hours\", lambda x: (x == \"Between 5 and 10\").sum()),\n",
    "  between_10_and_20=(\"coding_week_hours\", lambda x: (x == \"Between 10 and 20\").sum()),\n",
    "  between_20_and_30=(\"coding_week_hours\", lambda x: (x == \"Between 20 and 30\").sum()),\n",
    "  more_than_30=(\"coding_week_hours\", lambda x: (x == \"More than 30\").sum())\n",
    ")\n",
    "\n",
    "categories = [\n",
    "  'Less than 2 months',\n",
    "  '3-4 months',\n",
    "  '5-6 months',\n",
    "  'More than 6 months'\n",
    "]\n",
    "\n",
    "result.index = pd.CategoricalIndex(\n",
    "  result.index,\n",
    "  categories=categories,\n",
    "  ordered=True\n",
    "  )\n",
    "\n",
    "# Sort by the index (which is now an ordered categorical)\n",
    "result = result.sort_index()\n",
    "\n",
    "plt.figure(figsize=(12, 6))\n",
    "sns.heatmap(result,  annot=True, fmt='g', cmap='Blues')\n",
    "plt.title(\"Time to Job per Coding Hours\")\n",
    "plt.ylabel(\"Time To Job\")\n",
    "plt.xlabel(\"Coding Hours\")\n",
    "plt.show()"
   ]
  },
  {
   "cell_type": "markdown",
   "metadata": {},
   "source": [
    "## next steps\n",
    "\n",
    "- most frequent blockers and job success factors\n",
    "- most common techs from job success\n",
    "- how previous experience impacted job success\n",
    "- "
   ]
  }
 ],
 "metadata": {
  "kernelspec": {
   "display_name": "Python 3",
   "language": "python",
   "name": "python3"
  },
  "language_info": {
   "codemirror_mode": {
    "name": "ipython",
    "version": 3
   },
   "file_extension": ".py",
   "mimetype": "text/x-python",
   "name": "python",
   "nbconvert_exporter": "python",
   "pygments_lexer": "ipython3",
   "version": "3.13.2"
  }
 },
 "nbformat": 4,
 "nbformat_minor": 2
}
