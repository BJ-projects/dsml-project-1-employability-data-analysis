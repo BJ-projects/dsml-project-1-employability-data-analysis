{
 "cells": [
  {
   "cell_type": "code",
   "execution_count": null,
   "metadata": {},
   "outputs": [],
   "source": [
    "import sys\n",
    "import os\n",
    "import pandas as pd\n",
    "import matplotlib.pyplot as plt\n",
    "import seaborn as sns\n",
    "from IPython.display import Markdown\n",
    "\n",
    "sys.path.append(os.path.abspath(os.path.join(os.getcwd(), \"../scripts/eda/\")))\n",
    "from group_by_column_vs_has_dev_job import group_by_column_vs_has_dev_job"
   ]
  },
  {
   "cell_type": "code",
   "execution_count": null,
   "metadata": {},
   "outputs": [],
   "source": [
    "data = pd.read_excel(\"../private_data/data/cleaned_data/cleaned_data.xlsx\")"
   ]
  },
  {
   "cell_type": "markdown",
   "metadata": {},
   "source": [
    "## Filter students that found a job but it's not related to the bootcamp\n",
    "\n",
    "For now, we're considering only students that found a dev job AND students that did not find a job. <br>\n",
    "\n",
    "ie. for the analysis, we're not considering students that found a job but it's not related to the bootcamp (at least for now, since we don't have relevant data about them)\n",
    "\n"
   ]
  },
  {
   "cell_type": "code",
   "execution_count": null,
   "metadata": {},
   "outputs": [],
   "source": [
    "#\n",
    "# IMPORTANT: for this analysis we're using only students that found a dev job AND students that didn't find a job.\n",
    "#\n",
    "# (ie. we're not considering students that found a job but it's not related to the bootcamp)\n",
    "#\n",
    "\n",
    "data = data[(data[\"post_bootcamp_situation\"] != \"I found a job, but is not related to the bootcamp\")]\n",
    "\n"
   ]
  },
  {
   "cell_type": "markdown",
   "metadata": {},
   "source": [
    "## EDA"
   ]
  },
  {
   "cell_type": "code",
   "execution_count": null,
   "metadata": {},
   "outputs": [],
   "source": [
    "#\n",
    "# students that create projects, have higher chances of getting a job. new_projects_qty\n",
    "#\n",
    "\n",
    "# all students\n",
    "display(Markdown(\"<br>\"))\n",
    "display(Markdown(\"### Number of projects created\"))\n",
    "students_2023_and_2024 = data[data[\"cohort_start_month\"].str.startswith((\"2023\", \"2024\"))]\n",
    "group_by_column_vs_has_dev_job(data, \"new_projects_qty\")\n",
    "\n"
   ]
  },
  {
   "cell_type": "code",
   "execution_count": null,
   "metadata": {},
   "outputs": [],
   "source": [
    "#\n",
    "# students that create a portfolio, have higher chances of getting a job\n",
    "#\n",
    "display(Markdown(\"<br>\"))\n",
    "display(Markdown(\"### Portfolio\"))\n",
    "students_2023_and_2024 = data[data[\"cohort_start_month\"].str.startswith((\"2023\", \"2024\"))]\n",
    "group_by_column_vs_has_dev_job(data, \"did_create_portfolio\")"
   ]
  },
  {
   "cell_type": "code",
   "execution_count": null,
   "metadata": {},
   "outputs": [],
   "source": [
    "#\n",
    "# amount of interviews to get a dev job\n",
    "#\n",
    "\n",
    "# students_2022\n",
    "display(Markdown(\"<br>\"))\n",
    "display(Markdown(\"### students_2022:\"))\n",
    "students_2022 = data[data[\"cohort_start_month\"].str.startswith((\"2022\"))]\n",
    "r1 = group_by_column_vs_has_dev_job(students_2022, \"company_interview_qty\")\n",
    "display(r1)\n",
    "\n",
    "# students_2023\n",
    "display(Markdown(\"<br>\"))\n",
    "display(Markdown(\"### students_2023:\"))\n",
    "students_2023 = data[data[\"cohort_start_month\"].str.startswith((\"2023\"))]\n",
    "r2 = group_by_column_vs_has_dev_job(students_2023, \"company_interview_qty\")\n",
    "display(r2)\n",
    "\n",
    "# students_2024\n",
    "display(Markdown(\"<br>\"))\n",
    "display(Markdown(\"### students_2024:\"))\n",
    "students_2024 = data[data[\"cohort_start_month\"].str.startswith((\"2024\"))]\n",
    "r3 = group_by_column_vs_has_dev_job(students_2024, \"company_interview_qty\")\n",
    "display(r3)\n"
   ]
  },
  {
   "cell_type": "code",
   "execution_count": null,
   "metadata": {},
   "outputs": [],
   "source": [
    "#\n",
    "# students with previous knowledge have a higher chance of getting a job\n",
    "#\n",
    "display(Markdown(\"<br>\"))\n",
    "display(Markdown(\"### Previous coding knowledge\"))\n",
    "group_by_column_vs_has_dev_job(data, \"pre_bootcamp_coding_experience\")\n"
   ]
  }
 ],
 "metadata": {
  "kernelspec": {
   "display_name": "Python 3",
   "language": "python",
   "name": "python3"
  },
  "language_info": {
   "codemirror_mode": {
    "name": "ipython",
    "version": 3
   },
   "file_extension": ".py",
   "mimetype": "text/x-python",
   "name": "python",
   "nbconvert_exporter": "python",
   "pygments_lexer": "ipython3",
   "version": "3.13.2"
  }
 },
 "nbformat": 4,
 "nbformat_minor": 2
}
