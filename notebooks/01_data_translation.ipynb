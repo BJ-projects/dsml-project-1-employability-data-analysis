{
 "cells": [
  {
   "cell_type": "code",
   "execution_count": 61,
   "metadata": {},
   "outputs": [],
   "source": [
    "import pandas as pd\n",
    "import sys\n",
    "import os"
   ]
  },
  {
   "cell_type": "code",
   "execution_count": 62,
   "metadata": {},
   "outputs": [],
   "source": [
    "es_data = pd.read_excel(\"../private_data/data/survey_results_es/es-data.xlsx\")"
   ]
  },
  {
   "cell_type": "code",
   "execution_count": 63,
   "metadata": {},
   "outputs": [],
   "source": [
    "# column rename\n",
    "sys.path.append(os.path.abspath(os.path.join(os.getcwd(), \"../scripts/aggregation/\")))\n",
    "from rename_columns_es import rename_columns_es\n",
    "\n",
    "es_data = rename_columns_es(es_data)"
   ]
  },
  {
   "cell_type": "code",
   "execution_count": 64,
   "metadata": {},
   "outputs": [],
   "source": [
    "sys.path.append(os.path.abspath(os.path.join(os.getcwd(), \"../private_data/dictionaries_student_data\")))\n",
    "from dictionary_students_es import es_student_to_cohort, es_student_to_id"
   ]
  },
  {
   "cell_type": "code",
   "execution_count": 65,
   "metadata": {},
   "outputs": [],
   "source": [
    "# Adding \"cohort_start_month\" columns \n",
    "def student_to_cohort_func(each_name):\n",
    "  return es_student_to_cohort[each_name]\n",
    "\n",
    "student_cohorts = es_data[\"name\"].apply(student_to_cohort_func)\n",
    "es_data.insert(loc=2, column=\"cohort_start_month\", value=student_cohorts) "
   ]
  },
  {
   "cell_type": "code",
   "execution_count": 66,
   "metadata": {},
   "outputs": [],
   "source": [
    "# Adding \"cohort_language\" column with \"ES\" value for Spanish cohorts\n",
    "es_data.insert(3, \"cohort_language\", \"ES\")"
   ]
  },
  {
   "cell_type": "code",
   "execution_count": 67,
   "metadata": {},
   "outputs": [],
   "source": [
    "# Adding \"ct_student_id\" columns\n",
    "# es_data.insert(2, \"ct_student_id\", None) \n",
    "def student_to_id_func(each_name):\n",
    "  return es_student_to_id[each_name]\n",
    "\n",
    "# es_data[\"ct_student_id\"] = es_data[\"name\"].apply(student_to_id_func)\n",
    "student_ids = es_data[\"name\"].apply(student_to_id_func)\n",
    "es_data.insert(loc=2, column=\"ct_student_id\", value=student_ids) "
   ]
  },
  {
   "cell_type": "code",
   "execution_count": 68,
   "metadata": {},
   "outputs": [],
   "source": [
    "# dropping private and unneeded columns\n",
    "es_data.drop(\"Timestamp\", axis=1, inplace=True) # remove timestamp\n",
    "es_data.drop(\"name\", axis=1, inplace=True)\n",
    "es_data.drop(\"final_comments\", axis=1, inplace=True)"
   ]
  },
  {
   "cell_type": "code",
   "execution_count": 69,
   "metadata": {},
   "outputs": [],
   "source": [
    "# pre_bootcamp_coding_experience replace\n",
    "pre_bootcamp_coding_experience_dict = {\n",
    "  \"No tenía ningún conocimiento en programación\": \"I had zero coding knowledge\",\n",
    "  \"Tenía conocimientos básicos de programación\": \"I had basic coding knowledge\",\n",
    "  \"Tenía conocimientos entre medios y avanzados de programación\": \"I had medium to advanced coding knowledge\",\n",
    "  \"Tenía conocimientos y experiencia profesional en programación\": \"I had professional coding knowledge and experience\"\n",
    "}\n",
    "es_data['pre_bootcamp_coding_experience'] = es_data['pre_bootcamp_coding_experience'].replace(pre_bootcamp_coding_experience_dict)"
   ]
  },
  {
   "cell_type": "code",
   "execution_count": 70,
   "metadata": {},
   "outputs": [],
   "source": [
    "# post_bootcamp_situation replace\n",
    "post_bootcamp_situation_dict = {\n",
    "  \"Encontré un trabajo a tiempo completo como desarrollador (o un puesto similar)\": \"I found a Full-Time job as a developer (or a similar role)\",\n",
    "  \"Encontré un trabajo a tiempo parcial como desarrollador (o un puesto similar)\": \"I found a Part-Time job as a developer (or a similar role)\",\n",
    "  \"Encontré trabajo como desarrollador freelance, con una fuente de ingresos relevante\": \"I found work as a Freelance developer, with a relevant source of income\",\n",
    "  \"Encontré un trabajo, pero no está relacionado con el bootcamp\": \"I found a job, but is not related to the bootcamp\",\n",
    "  \"Aun no he encontrado trabajo\": \"I haven't found a job.\"\n",
    "}\n",
    "es_data['post_bootcamp_situation'] = es_data['post_bootcamp_situation'].replace(post_bootcamp_situation_dict)"
   ]
  },
  {
   "cell_type": "code",
   "execution_count": 71,
   "metadata": {},
   "outputs": [],
   "source": [
    "# job_country replace\n",
    "es_data['job_country'] = es_data['job_country'].str.strip()\n",
    "\n",
    "job_country_dict = {\n",
    "  \"España\": \"Spain\",\n",
    "  \"Alemania\": \"Germany\",\n",
    "}\n",
    "es_data['job_country'] = es_data['job_country'].replace(job_country_dict)"
   ]
  },
  {
   "cell_type": "code",
   "execution_count": 72,
   "metadata": {},
   "outputs": [],
   "source": [
    "# time_to_job replace\n",
    "time_to_job_dict = {\n",
    "  \"Menos de 2 meses\": \"Less than 2 months\",\n",
    "  \"Entre 3 y 4 meses\": \"3-4 months\",\n",
    "  \"Entre 5 y 6 meses\": \"5-6 months\",\n",
    "  \"Más de 6 meses\": \"More than 6 months\",\n",
    "}\n",
    "es_data['time_to_job'] = es_data['time_to_job'].replace(time_to_job_dict)"
   ]
  },
  {
   "cell_type": "code",
   "execution_count": 73,
   "metadata": {},
   "outputs": [],
   "source": [
    "# did_bootcamp_helped replace\n",
    "did_bootcamp_helped_dict = {\n",
    "  \"Si\": \"Yes\",\n",
    "}\n",
    "es_data['did_bootcamp_helped'] = es_data['did_bootcamp_helped'].replace(did_bootcamp_helped_dict)"
   ]
  },
  {
   "cell_type": "code",
   "execution_count": 74,
   "metadata": {},
   "outputs": [],
   "source": [
    "# job_success_factors replace\n",
    "#TODO PENDING. \n",
    "# job_success_factors_dict = {\n",
    "#   \"Buena comunicación y habilidades blandas\": \"Good communication and soft skills\",\n",
    "# }\n",
    "# es_data['job_success_factors'].replace(job_success_factors_dict)"
   ]
  },
  {
   "cell_type": "code",
   "execution_count": 75,
   "metadata": {},
   "outputs": [],
   "source": [
    "# is_job_hunting replace\n",
    "is_job_hunting_dict = {\n",
    "  \"Sí, sigo buscando activamente un trabajo como desarrollador\": \"Yes, I keep actively looking for a job as a developer\",\n",
    "  \"Sí, pero para ser honesto, estoy poniendo poco esfuerzo\": \"Yes, but to be honest, I'm putting little effort\",\n",
    "  \"No, ya no estoy buscando trabajo como desarrollador\": \"No, I'm not looking for a job as a developer anymore\",\n",
    "}\n",
    "es_data['is_job_hunting'] = es_data['is_job_hunting'].replace(is_job_hunting_dict)"
   ]
  },
  {
   "cell_type": "code",
   "execution_count": 76,
   "metadata": {},
   "outputs": [],
   "source": [
    "# is_job_hunting replace\n",
    "is_job_hunting_dict = {\n",
    "  \"Sí, sigo buscando activamente un trabajo como desarrollador\": \"Yes, I keep actively looking for a job as a developer\",\n",
    "  \"Sí, pero para ser honesto, estoy poniendo poco esfuerzo\": \"Yes, but to be honest, I'm putting little effort\",\n",
    "  \"No, ya no estoy buscando trabajo como desarrollador\": \"No, I'm not looking for a job as a developer anymore\",\n",
    "}\n",
    "es_data['is_job_hunting'] = es_data['is_job_hunting'].replace(is_job_hunting_dict)"
   ]
  },
  {
   "cell_type": "code",
   "execution_count": 77,
   "metadata": {},
   "outputs": [],
   "source": [
    "# job_hunt_blockers replace\n",
    "#TODO PENDING. "
   ]
  },
  {
   "cell_type": "code",
   "execution_count": 78,
   "metadata": {},
   "outputs": [],
   "source": [
    "# search_country replace\n",
    "es_data['search_country'] = es_data['search_country'].str.strip()\n",
    "\n",
    "search_country_dict = {\n",
    "  \"España\": \"Spain\",\n",
    "  \"Espanya\": \"Spain\",\n",
    "  \"Alemania\": \"Germany\",\n",
    "  \"Irlanda\": \"Ireland\",\n",
    "  \"Europa\": \"Europe\",\n",
    "}\n",
    "es_data['search_country'] = es_data['search_country'].replace(search_country_dict)"
   ]
  },
  {
   "cell_type": "code",
   "execution_count": 79,
   "metadata": {},
   "outputs": [],
   "source": [
    "# company_interview_qty replace\n",
    "company_interview_qty_dict = {\n",
    "  \"No tuve entrevistas o sólo muy cortas\": \"I didn't have interviews or just very short ones\",\n",
    "  \"1 empresa\": \"1 company\",\n",
    "  \"2 empresas\": \"2 companies\",\n",
    "  \"3 empresas\": \"3 companies\",\n",
    "  \"4 empresas\": \"4 companies\",\n",
    "  \"5 empresas\": \"5 companies\",\n",
    "  \"6 empresas\": \"6 companies\",\n",
    "  \"7 empresas\": \"7 companies\",\n",
    "  \"8 empresas\": \"8 companies\",\n",
    "  \"9 empresas\": \"9 companies\",\n",
    "  \"10 o más empresas\": \"10 or more companies\",\n",
    "\n",
    "}\n",
    "es_data['company_interview_qty'] = es_data['company_interview_qty'].replace(company_interview_qty_dict)"
   ]
  },
  {
   "cell_type": "code",
   "execution_count": 80,
   "metadata": {},
   "outputs": [],
   "source": [
    "# job_search_week_hours replace\n",
    "job_search_week_hours_dict = {\n",
    "  \"Menos de 5 horas Semanales\": \"Less than 5\",\n",
    "  \"Entre 5 y 10 horas Semanales\": \"Between 5 and 10\",\n",
    "  \"Entre 10 y 20 horas Semanales\": \"Between 10 and 20\",\n",
    "  \"Entre 20 y 30 horas Semanales\": \"Between 20 and 30\",\n",
    "  \"Más de 30 horas Semanales\": \"More than 30\",\n",
    "}\n",
    "es_data['job_search_week_hours'] = es_data['job_search_week_hours'].replace(job_search_week_hours_dict)"
   ]
  },
  {
   "cell_type": "code",
   "execution_count": 81,
   "metadata": {},
   "outputs": [],
   "source": [
    "# coding_week_hours replace\n",
    "coding_week_hours_dict = {\n",
    "  \"Menos de 5 horas Semanales\": \"Less than 5\",\n",
    "  \"Entre 5 y 10 horas Semanales\": \"Between 5 and 10\",\n",
    "  \"Entre 10 y 20 horas Semanales\": \"Between 10 and 20\",\n",
    "  \"Entre 20 y 30 horas Semanales\": \"Between 20 and 30\",\n",
    "  \"Más de 30 horas Semanales\": \"More than 30\",\n",
    "}\n",
    "es_data['coding_week_hours'] = es_data['coding_week_hours'].replace(coding_week_hours_dict)"
   ]
  },
  {
   "cell_type": "code",
   "execution_count": 82,
   "metadata": {},
   "outputs": [],
   "source": [
    "# job_search_focus replace\n",
    "job_search_focus_dict = {\n",
    "  \"Me concentré principalmente en mejorar en JavaScript simple y en la resolución de problemas (por ejemplo, katas)\": \"I focused mostly on getting better at plain JavaScript and problem solving (e.g. katas)\",\n",
    "  \"Me concentré principalmente en mejorar en otras tecnologías que conozco (por ejemplo, React, Express)\": \"I focused mostly on getting better at other technologies that I know (e.g React, express)\",\n",
    "  \"Me concentré principalmente en aprender nuevas tecnologías\": \"I focused mostly on learning new technologies\",\n",
    "  \"Hice un poco de todo (JavaScript, frameworks, nuevas tecnologías)\": \"I did a bit of everything (JavaScript, frameworks, new technologies)\",\n",
    "  \"Ninguna de las anteriores\": \"None of them\",\n",
    "}\n",
    "es_data['job_search_focus'] = es_data['job_search_focus'].replace(job_search_focus_dict)"
   ]
  },
  {
   "cell_type": "code",
   "execution_count": 83,
   "metadata": {},
   "outputs": [],
   "source": [
    "#NOTE: cambiar casing the technologies directo en excel. todo lowercase y separado con comas. Quitar extra.\n",
    "# ie: java, php, python"
   ]
  },
  {
   "cell_type": "code",
   "execution_count": 84,
   "metadata": {},
   "outputs": [],
   "source": [
    "# new_projects_qty replace\n",
    "new_projects_qty_dict = {\n",
    "  \"No, no hice ningún nuevo proyecto\": \"No, I haven't\",\n",
    "  \"Si, hice 1 nuevo proyecto\": \"Yes, I created 1\",\n",
    "  \"Si, hice de 2 a 3 nuevos proyectos\": \"Yes, I created 2 to 3\",\n",
    "  \"Si, hice más de 3 nuevos proyectos\": \"Yes, I created more than 3\",\n",
    "}\n",
    "es_data['new_projects_qty'] = es_data['new_projects_qty'].replace(new_projects_qty_dict)"
   ]
  },
  {
   "cell_type": "code",
   "execution_count": 85,
   "metadata": {},
   "outputs": [],
   "source": [
    "# did_bootcamp_helped replace\n",
    "did_create_portfolio_dict = {\n",
    "  \"Si\": \"Yes\",\n",
    "}\n",
    "es_data['did_create_portfolio'] = es_data['did_create_portfolio'].replace(did_create_portfolio_dict)"
   ]
  },
  {
   "cell_type": "code",
   "execution_count": 86,
   "metadata": {},
   "outputs": [],
   "source": [
    "# Adding \"other\" job hunt blocker to a new column.\n",
    "\n",
    "job_hunt_blockers_list = [\n",
    "  \"Nunca quise encontrar un trabajo como desarrollador\",\n",
    "  \"Aprendí que el desarrollo web no es para mí\",\n",
    "  \"Falta de motivación\",\n",
    "  \"Frustración con el proceso\",\n",
    "  \"Sentirse abrumado (demasiadas cosas que hacer\",\n",
    "  # the next two relate to the previous entry with a \",\"\n",
    "  \"demasiadas cosas que aprender\",\n",
    "  \"etc.)\",\n",
    "\n",
    "  \"No vi muchas ofertas de trabajo\",\n",
    "  \"Falta de confianza en que encontraría un trabajo\",\n",
    "  \"Procrastinación (quiero\",\n",
    "  # the next one relate to the previous entry with a \",\"\n",
    "  \"pero sigo retrasándolo y posponiéndolo)\",\n",
    "\n",
    "  \"Vida personal (Me estoy centrando en otros aspectos de mi vida personal)\",\n",
    "  \"Falta de orientación / no sé por dónde empezar\",\n",
    "]\n",
    "\n",
    "# Function to find the unknown item\n",
    "def find_unknown(blocker_str, valid_list):\n",
    "    if pd.isna(blocker_str):\n",
    "      return None\n",
    "    items = [item.strip() for item in blocker_str.split(',')]\n",
    "    unknowns = [item for item in items if item not in valid_list]\n",
    "    #todo later, translate other\n",
    "    return unknowns[0] if unknowns else None\n",
    "\n",
    "# Apply the function to each row\n",
    "es_data['other_job_hunt_blocker'] = es_data['job_hunt_blockers'].apply(lambda x: find_unknown(x, job_hunt_blockers_list))\n",
    "\n"
   ]
  },
  {
   "cell_type": "code",
   "execution_count": 87,
   "metadata": {},
   "outputs": [],
   "source": [
    "# job_hunt_blockers replace\n",
    "\n",
    "# NOTE: removing commas and other characters and simplifying response for simpler EDA later\n",
    "job_hunt_blockers_dict = {\n",
    "  \"Nunca quise encontrar un trabajo como desarrollador\": \"I never wanted to find a job as a developer\",\n",
    "  \"Aprendí que el desarrollo web no es para mí\": \"I learned that web dev is not for me\",\n",
    "  \"Falta de motivación\": \"Lack of motivation\",\n",
    "  \"Frustración con el proceso\": \"Frustration with the process\",\n",
    "  \"Sentirse abrumado (demasiadas cosas que hacer\": \"Feeling overwhelmed\",\n",
    "  # the next two relate to the previous entry with a \",\"\n",
    "  \"demasiadas cosas que aprender\": \"\",\n",
    "  \"etc.)\": \"\",\n",
    "\n",
    "  \"No vi muchas ofertas de trabajo\": \"Did not see many job offers\",\n",
    "  \"Falta de confianza en que encontraría un trabajo\": \"Lack of confidence\",\n",
    "  \"Procrastinación (quiero\": \"Procrastination\",\n",
    "  # the next one relate to the previous entry with a \",\"\n",
    "  \"pero sigo retrasándolo y posponiéndolo)\": \"\",\n",
    "\n",
    "  \"Vida personal (Me estoy centrando en otros aspectos de mi vida personal)\": \"Focusing on Personal life\",\n",
    "  \"Falta de orientación / no sé por dónde empezar\": \"Lack of guidance\",\n",
    "}\n",
    "\n",
    "# the lambda will split the substrings and apply the replace for each one\n",
    "def filter_empty(elem):\n",
    "  return elem != \"\"\n",
    "\n",
    "es_data['job_hunt_blockers'] = es_data['job_hunt_blockers'].apply(\n",
    "    lambda string: ', '.join(filter(filter_empty, [job_hunt_blockers_dict.get(substring.strip(), \"Other\") for substring in string.split(',')]))\n",
    "    if pd.notnull(string) else string\n",
    ")\n",
    "# NOTE: adding \"Other\" instead of substring.strip() as a second argument of .get to group other responses. Later can be a different column."
   ]
  },
  {
   "cell_type": "code",
   "execution_count": 88,
   "metadata": {},
   "outputs": [],
   "source": [
    "# Adding \"other\" job success factor to a new column.\n",
    "\n",
    "job_success_factor_list = [\n",
    "  \"Buena comunicación y habilidades blandas\",\n",
    "  \"Buenas habilidades de código\",\n",
    "  \"Un portafolio robusto o proyectos personales\",\n",
    "  \"Networking y contactos\",\n",
    "  \"Practiqué mucho para entrevistas técnicas (por ejemplo\",\n",
    "  # the next one relate to the previous entry with a \",\"\n",
    "  \"desafíos de codificación)\",\n",
    "\n",
    "  \"Practiqué mucho para entrevistas no técnicas (por ejemplo\",\n",
    "  # the next three relate to the previous entry with a \",\"\n",
    "  \"preguntas de comportamiento\",\n",
    "  \"explicación de proyectos\",\n",
    "  \"etc.)\",\n",
    "\n",
    "  \"Disciplina y trabajo duro\",\n",
    "  \"Persistencia (me rechazaron muchas veces\",\n",
    "  # the next one relate to the previous entry with a \",\"\n",
    "  \"pero seguí postulando hasta que lo logré)\",\n",
    "]\n",
    "\n",
    "# Function to find the unknown item\n",
    "def find_unknown(factor_str, valid_list):\n",
    "    if pd.isna(factor_str):\n",
    "      return None\n",
    "    items = [item.strip() for item in factor_str.split(',')]\n",
    "    unknowns = [item for item in items if item not in valid_list]\n",
    "    #todo later, translate other\n",
    "    return unknowns[0] if unknowns else None\n",
    "\n",
    "# Apply the function to each row\n",
    "es_data['other_job_success_factor'] = es_data['job_success_factors'].apply(lambda x: find_unknown(x, job_success_factor_list))"
   ]
  },
  {
   "cell_type": "code",
   "execution_count": 89,
   "metadata": {},
   "outputs": [],
   "source": [
    "# job_success_factors replace\n",
    "\n",
    "# NOTE: removing commas and other characters and simplifying response for simpler EDA later. Repeating those not to be changed so the \"other\" is removed when not found.\n",
    "job_success_factors_dict = {\n",
    "  \"Buena comunicación y habilidades blandas\": \"Good communication and soft skills\",\n",
    "  \"Buenas habilidades de código\": \"Good coding skills\",\n",
    "  \"Un portafolio robusto o proyectos personales\": \"Strong portfolio or personal projects\",\n",
    "  \"Networking y contactos\": \"Networking and contacts\",\n",
    "  \"Practiqué mucho para entrevistas técnicas (por ejemplo\": \"I practiced a lot for technical interviews\",\n",
    "  # the next one relate to the previous entry with a \",\"\n",
    "  \"desafíos de codificación)\": \"\",\n",
    "\n",
    "  \"Practiqué mucho para entrevistas no técnicas (por ejemplo\": \"I practiced a lot for non-technical interviews\",\n",
    "  # the next three relate to the previous entry with a \",\"\n",
    "  \"preguntas de comportamiento\": \"\",\n",
    "  \"explicación de proyectos\": \"\",\n",
    "  \"etc.)\": \"\",\n",
    "\n",
    "  \"Disciplina y trabajo duro\": \"Discipline and hard work\",\n",
    "  \"Persistencia (me rechazaron muchas veces\": \"Persistance\",\n",
    "  # the next one relate to the previous entry with a \",\"\n",
    "  \"pero seguí postulando hasta que lo logré)\": \"\",\n",
    "}\n",
    "\n",
    "# the lambda will split the substrings and apply the replace for each one\n",
    "\n",
    "def filter_empty(elem):\n",
    "  return elem != \"\"\n",
    "\n",
    "es_data['job_success_factors'] = es_data['job_success_factors'].apply(\n",
    "    lambda string: ', '.join(filter(filter_empty, [job_success_factors_dict.get(substring.strip(), \"Other\") for substring in string.split(',')]))\n",
    "    if pd.notnull(string) else string\n",
    ")\n",
    "\n",
    "# NOTE: adding \"Other\" instead of substring.strip() as a second argument of .get to group other responses. Later can be a different column."
   ]
  },
  {
   "cell_type": "code",
   "execution_count": 90,
   "metadata": {},
   "outputs": [],
   "source": [
    "es_data.to_excel(\"../private_data/data/survey_results_es/es_data_translated.xlsx\", index=False)"
   ]
  },
  {
   "cell_type": "markdown",
   "metadata": {},
   "source": []
  }
 ],
 "metadata": {
  "kernelspec": {
   "display_name": "Python 3",
   "language": "python",
   "name": "python3"
  },
  "language_info": {
   "codemirror_mode": {
    "name": "ipython",
    "version": 3
   },
   "file_extension": ".py",
   "mimetype": "text/x-python",
   "name": "python",
   "nbconvert_exporter": "python",
   "pygments_lexer": "ipython3",
   "version": "3.13.2"
  }
 },
 "nbformat": 4,
 "nbformat_minor": 2
}
