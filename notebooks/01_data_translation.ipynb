{
 "cells": [
  {
   "cell_type": "code",
   "execution_count": null,
   "metadata": {},
   "outputs": [],
   "source": [
    "import pandas as pd\n",
    "import sys\n",
    "import os"
   ]
  },
  {
   "cell_type": "code",
   "execution_count": null,
   "metadata": {},
   "outputs": [],
   "source": [
    "es_data = pd.read_excel(\"../private_data/survey_results_es/es-data.xlsx\")"
   ]
  },
  {
   "cell_type": "code",
   "execution_count": null,
   "metadata": {},
   "outputs": [],
   "source": [
    "# column rename\n",
    "sys.path.append(os.path.abspath(os.path.join(os.getcwd(), \"../scripts/aggregation/\")))\n",
    "from rename_columns_es import rename_columns_es\n",
    "\n",
    "es_data = rename_columns_es(es_data)"
   ]
  },
  {
   "cell_type": "code",
   "execution_count": null,
   "metadata": {},
   "outputs": [],
   "source": [
    "# es_data.insert(2, \"ct_student_id\", None) # add column \"ct_student_id\" #todo pending add student id\n",
    "es_data.insert(2, \"cohort_start_month\", None) # add column \"ct_student_id\" # todo add cohort ids\n",
    "es_data.drop(\"Timestamp\", axis=1, inplace=True) # remove timestamp\n",
    "es_data.drop(\"name\", axis=1, inplace=True)\n",
    "es_data.drop(\"final_comments\", axis=1, inplace=True)"
   ]
  },
  {
   "cell_type": "code",
   "execution_count": null,
   "metadata": {},
   "outputs": [],
   "source": [
    "# pre_bootcamp_coding_experience replace\n",
    "pre_bootcamp_coding_experience_dict = {\n",
    "  \"No tenía ningún conocimiento en programación\": \"I had zero coding knowledge\",\n",
    "  \"Tenía conocimientos básicos de programación\": \"I had basic coding knowledge\",\n",
    "  \"Tenía conocimientos entre medios y avanzados de programación\": \"I had medium to advanced coding knowledge\",\n",
    "  \"Tenía conocimientos y experiencia profesional en programación\": \"I had professional coding knowledge and experience\"\n",
    "}\n",
    "es_data['pre_bootcamp_coding_experience'] = es_data['pre_bootcamp_coding_experience'].replace(pre_bootcamp_coding_experience_dict)"
   ]
  },
  {
   "cell_type": "code",
   "execution_count": null,
   "metadata": {},
   "outputs": [],
   "source": [
    "# post_bootcamp_situation replace\n",
    "post_bootcamp_situation_dict = {\n",
    "  \"Encontré un trabajo a tiempo completo como desarrollador (o un puesto similar)\": \"I found a Full-Time job as a developer (or a similar role)\",\n",
    "  \"Encontré un trabajo a tiempo parcial como desarrollador (o un puesto similar)\": \"I found a Part-Time job as a developer (or a similar role)\",\n",
    "  \"Encontré trabajo como desarrollador freelance, con una fuente de ingresos relevante\": \"I found work as a Freelance developer, with a relevant source of income\",\n",
    "  \"Encontré un trabajo, pero no está relacionado con el bootcamp\": \"I found a job, but is not related to the bootcamp\",\n",
    "  \"Aun no he encontrado trabajo\": \"I haven't found a job.\"\n",
    "}\n",
    "es_data['post_bootcamp_situation'] = es_data['post_bootcamp_situation'].replace(post_bootcamp_situation_dict)"
   ]
  },
  {
   "cell_type": "code",
   "execution_count": null,
   "metadata": {},
   "outputs": [],
   "source": [
    "# job_country replace\n",
    "es_data['job_country'] = es_data['job_country'].str.strip()\n",
    "\n",
    "job_country_dict = {\n",
    "  \"España\": \"Spain\",\n",
    "  \"Alemania\": \"Germany\",\n",
    "}\n",
    "es_data['job_country'] = es_data['job_country'].replace(job_country_dict)"
   ]
  },
  {
   "cell_type": "code",
   "execution_count": null,
   "metadata": {},
   "outputs": [],
   "source": [
    "# time_to_job replace\n",
    "time_to_job_dict = {\n",
    "  \"Menos de 2 meses\": \"Less than 2 months\",\n",
    "  \"Entre 3 y 4 meses\": \"3-4 months\",\n",
    "  \"Entre 5 y 6 meses\": \"5-6 months\",\n",
    "  \"Más de 6 meses\": \"More than 6 months\",\n",
    "}\n",
    "es_data['time_to_job'] = es_data['time_to_job'].replace(time_to_job_dict)"
   ]
  },
  {
   "cell_type": "code",
   "execution_count": null,
   "metadata": {},
   "outputs": [],
   "source": [
    "# did_bootcamp_helped replace\n",
    "did_bootcamp_helped_dict = {\n",
    "  \"Si\": \"Yes\",\n",
    "}\n",
    "es_data['did_bootcamp_helped'] = es_data['did_bootcamp_helped'].replace(did_bootcamp_helped_dict)"
   ]
  },
  {
   "cell_type": "code",
   "execution_count": null,
   "metadata": {},
   "outputs": [],
   "source": [
    "# job_success_factors replace\n",
    "#TODO PENDING. \n",
    "job_success_factors_dict = {\n",
    "  \"Buena comunicación y habilidades blandas\": \"Good communication and soft skills\",\n",
    "}\n",
    "es_data['job_success_factors'].replace(job_success_factors_dict)"
   ]
  },
  {
   "cell_type": "code",
   "execution_count": null,
   "metadata": {},
   "outputs": [],
   "source": [
    "# is_job_hunting replace\n",
    "is_job_hunting_dict = {\n",
    "  \"Sí, sigo buscando activamente un trabajo como desarrollador\": \"Yes, I keep actively looking for a job as a developer\",\n",
    "  \"Sí, pero para ser honesto, estoy poniendo poco esfuerzo\": \"Yes, but to be honest, I'm putting little effort\",\n",
    "  \"No, ya no estoy buscando trabajo como desarrollador\": \"No, I'm not looking for a job as a developer anymore\",\n",
    "}\n",
    "es_data['is_job_hunting'] = es_data['is_job_hunting'].replace(is_job_hunting_dict)"
   ]
  },
  {
   "cell_type": "code",
   "execution_count": null,
   "metadata": {},
   "outputs": [],
   "source": [
    "# is_job_hunting replace\n",
    "is_job_hunting_dict = {\n",
    "  \"Sí, sigo buscando activamente un trabajo como desarrollador\": \"Yes, I keep actively looking for a job as a developer\",\n",
    "  \"Sí, pero para ser honesto, estoy poniendo poco esfuerzo\": \"Yes, but to be honest, I'm putting little effort\",\n",
    "  \"No, ya no estoy buscando trabajo como desarrollador\": \"No, I'm not looking for a job as a developer anymore\",\n",
    "}\n",
    "es_data['is_job_hunting'] = es_data['is_job_hunting'].replace(is_job_hunting_dict)"
   ]
  },
  {
   "cell_type": "code",
   "execution_count": null,
   "metadata": {},
   "outputs": [],
   "source": [
    "# job_hunt_blockers replace\n",
    "#TODO PENDING. "
   ]
  },
  {
   "cell_type": "code",
   "execution_count": null,
   "metadata": {},
   "outputs": [],
   "source": [
    "# search_country replace\n",
    "es_data['search_country'] = es_data['search_country'].str.strip()\n",
    "\n",
    "search_country_dict = {\n",
    "  \"España\": \"Spain\",\n",
    "  \"Espanya\": \"Spain\",\n",
    "  \"Alemania\": \"Germany\",\n",
    "  \"Irlanda\": \"Ireland\",\n",
    "  \"Europa\": \"Europe\",\n",
    "}\n",
    "es_data['search_country'] = es_data['search_country'].replace(search_country_dict)"
   ]
  },
  {
   "cell_type": "code",
   "execution_count": null,
   "metadata": {},
   "outputs": [],
   "source": [
    "# company_interview_qty replace\n",
    "company_interview_qty_dict = {\n",
    "  \"No tuve entrevistas o sólo muy cortas\": \"I didn't have interviews or just very short ones\",\n",
    "  \"1 empresa\": \"1 company\",\n",
    "  \"2 empresas\": \"2 companies\",\n",
    "  \"3 empresas\": \"3 companies\",\n",
    "  \"4 empresas\": \"4 companies\",\n",
    "  \"5 empresas\": \"5 companies\",\n",
    "  \"6 empresas\": \"6 companies\",\n",
    "  \"7 empresas\": \"7 companies\",\n",
    "  \"8 empresas\": \"8 companies\",\n",
    "  \"9 empresas\": \"9 companies\",\n",
    "  \"10 o más empresas\": \"10 or more companies\",\n",
    "\n",
    "}\n",
    "es_data['company_interview_qty'] = es_data['company_interview_qty'].replace(company_interview_qty_dict)"
   ]
  },
  {
   "cell_type": "code",
   "execution_count": null,
   "metadata": {},
   "outputs": [],
   "source": [
    "# job_search_week_hours replace\n",
    "job_search_week_hours_dict = {\n",
    "  \"Menos de 5 horas Semanales\": \"Less than 5\",\n",
    "  \"Entre 5 y 10 horas Semanales\": \"Between 5 and 10\",\n",
    "  \"Entre 10 y 20 horas Semanales\": \"Between 10 and 20\",\n",
    "  \"Entre 20 y 30 horas Semanales\": \"Between 20 and 30\",\n",
    "  \"Más de 30 horas Semanales\": \"More than 30\",\n",
    "}\n",
    "es_data['job_search_week_hours'] = es_data['job_search_week_hours'].replace(job_search_week_hours_dict)"
   ]
  },
  {
   "cell_type": "code",
   "execution_count": null,
   "metadata": {},
   "outputs": [],
   "source": [
    "# coding_week_hours replace\n",
    "coding_week_hours_dict = {\n",
    "  \"Menos de 5 horas Semanales\": \"Less than 5\",\n",
    "  \"Entre 5 y 10 horas Semanales\": \"Between 5 and 10\",\n",
    "  \"Entre 10 y 20 horas Semanales\": \"Between 10 and 20\",\n",
    "  \"Entre 20 y 30 horas Semanales\": \"Between 20 and 30\",\n",
    "  \"Más de 30 horas Semanales\": \"More than 30\",\n",
    "}\n",
    "es_data['coding_week_hours'] = es_data['coding_week_hours'].replace(coding_week_hours_dict)"
   ]
  },
  {
   "cell_type": "code",
   "execution_count": null,
   "metadata": {},
   "outputs": [],
   "source": [
    "# job_search_focus replace\n",
    "job_search_focus_dict = {\n",
    "  \"Me concentré principalmente en mejorar en JavaScript simple y en la resolución de problemas (por ejemplo, katas)\": \"I focused mostly on getting better at plain JavaScript and problem solving (e.g. katas)\",\n",
    "  \"Me concentré principalmente en mejorar en otras tecnologías que conozco (por ejemplo, React, Express)\": \"I focused mostly on getting better at other technologies that I know (e.g React, express)\",\n",
    "  \"Me concentré principalmente en aprender nuevas tecnologías\": \"I focused mostly on learning new technologies\",\n",
    "  \"Hice un poco de todo (JavaScript, frameworks, nuevas tecnologías)\": \"I did a bit of everything (JavaScript, frameworks, new technologies)\",\n",
    "  \"Ninguna de las anteriores\": \"None of them\",\n",
    "}\n",
    "es_data['job_search_focus'] = es_data['job_search_focus'].replace(job_search_focus_dict)"
   ]
  },
  {
   "cell_type": "code",
   "execution_count": null,
   "metadata": {},
   "outputs": [],
   "source": [
    "#NOTE: cambiar casing the technologies directo en excel. todo lowercase y separado con comas. Quitar extra.\n",
    "# ie: java, php, python"
   ]
  },
  {
   "cell_type": "code",
   "execution_count": null,
   "metadata": {},
   "outputs": [],
   "source": [
    "# new_projects_qty replace\n",
    "new_projects_qty_dict = {\n",
    "  \"No, no hice ningún nuevo proyecto\": \"No, I haven't\",\n",
    "  \"Si, hice 1 nuevo proyecto\": \"Yes, I created 1\",\n",
    "  \"Si, hice de 2 a 3 nuevos proyectos\": \"Yes, I created 2 to 3\",\n",
    "  \"Si, hice más de 3 nuevos proyectos\": \"Yes, I created more than 3\",\n",
    "}\n",
    "es_data['new_projects_qty'] = es_data['new_projects_qty'].replace(new_projects_qty_dict)"
   ]
  },
  {
   "cell_type": "code",
   "execution_count": null,
   "metadata": {},
   "outputs": [],
   "source": [
    "# did_bootcamp_helped replace\n",
    "did_create_portfolio_dict = {\n",
    "  \"Si\": \"Yes\",\n",
    "}\n",
    "es_data['did_create_portfolio'] = es_data['did_create_portfolio'].replace(did_create_portfolio_dict)"
   ]
  },
  {
   "cell_type": "code",
   "execution_count": null,
   "metadata": {},
   "outputs": [],
   "source": [
    "# job_hunt_blockers replace\n",
    "\n",
    "job_hunt_blockers_dict = {\n",
    "  \"Nunca quise encontrar un trabajo como desarrollador\": \"I never wanted to find a job as a developer\",\n",
    "  \"Aprendí que el desarrollo web no es para mí\": \"I learned that web dev is not for me\",\n",
    "  \"Falta de motivación\": \"Lack of motivation\",\n",
    "  \"Frustración con el proceso\": \"Frustration with the process\",\n",
    "  # \"Sentirse abrumado (demasiadas cosas que hacer\\, demasiadas cosas que aprender\\, etc.)\": \"Feeling overwhelmed (too many things to do, too many things to learn, etc)\",\n",
    "  \"Sentirse abrumado (demasiadas cosas que hacer\": \"Feeling overwhelmed (too many things to do, too many things to learn, etc)\",\n",
    "  # this relates to the previous entry with a \",\"\n",
    "  \"demasiadas cosas que aprender\": \"\",\n",
    "  \"etc.)\": \"\",\n",
    "  \"No vi muchas ofertas de trabajo\": \"Did't see many job offers\",\n",
    "  \"Falta de confianza en que encontraría un trabajo\": \"Lack of confidence that I'd find a job\",\n",
    "  \"Procrastinación (quiero, pero sigo retrasándolo y posponiéndolo)\": \"Procrastination (I want, but I keep delaying and postponing)\",\n",
    "  \"Vida personal (Me estoy centrando en otros aspectos de mi vida personal)\": \"Personal life (I'm focusing on other aspects of my personal life)\",\n",
    "  \"Falta de orientación / no sé por dónde empezar\": \"Lack of guidance / don't know where to start\",\n",
    "}\n",
    "\n",
    "# the lambda will split the substrings and apply the replace for each one\n",
    "\n",
    "def filter_empty(elem):\n",
    "  return elem != \"\"\n",
    "\n",
    "es_data['job_hunt_blockers'] = es_data['job_hunt_blockers'].apply(\n",
    "    lambda string: ', '.join(filter(filter_empty, [job_hunt_blockers_dict.get(substring.strip(), substring.strip()) for substring in string.split(',')]))\n",
    "    if pd.notnull(string) else string\n",
    ")\n",
    "\n",
    "#! Quedan los mensajes de otros. Limpiarlos o gestionarlos al unir la data"
   ]
  },
  {
   "cell_type": "code",
   "execution_count": null,
   "metadata": {},
   "outputs": [],
   "source": [
    "# job_success_factors replace\n",
    "\n",
    "job_success_factors_dict = {\n",
    "  \"Buena comunicación y habilidades blandas\": \"Good communication and soft skills\",\n",
    "  \"Buenas habilidades de código\": \"Good coding skills\",\n",
    "  \"Un portafolio robusto o proyectos personales\": \"Strong portfolio or personal projects\",\n",
    "  \"Networking y contactos\": \"Networking and contacts\",\n",
    "  \"Practiqué mucho para entrevistas técnicas (por ejemplo\": \"I practiced a lot for technical interviews (e.g. coding challenges)\",\n",
    "  # Part of above:\n",
    "  \"desafíos de codificación)\": \"\",\n",
    "\n",
    "  \"Practiqué mucho para entrevistas no técnicas (por ejemplo\": \"I practiced a lot for non-technical interviews (e.g. behavioral questions, explaining projects, etc)\",\n",
    "  # The next 3 are Part of above:\n",
    "  \"preguntas de comportamiento\": \"\",\n",
    "  \"explicación de proyectos\": \"\",\n",
    "  \"etc.)\": \"\",\n",
    "\n",
    "  \"Disciplina y trabajo duro\": \"Discipline and hard work\",\n",
    "  \"Persistencia (me rechazaron muchas veces\": \"Persistance (I got rejected many times but kept applying until I succeeded)\",\n",
    "  # Part of above:\n",
    "  \"pero seguí postulando hasta que lo logré)\": \"\",\n",
    "}\n",
    "\n",
    "# the lambda will split the substrings and apply the replace for each one\n",
    "\n",
    "def filter_empty(elem):\n",
    "  return elem != \"\"\n",
    "\n",
    "es_data['job_success_factors'] = es_data['job_success_factors'].apply(\n",
    "    lambda string: ', '.join(filter(filter_empty, [job_success_factors_dict.get(substring.strip(), substring.strip()) for substring in string.split(',')]))\n",
    "    if pd.notnull(string) else string\n",
    ")\n"
   ]
  },
  {
   "cell_type": "code",
   "execution_count": null,
   "metadata": {},
   "outputs": [],
   "source": [
    "es_data.to_excel(\"../private_data/survey_results_es/es_data_translated.xlsx\", index=False)"
   ]
  }
 ],
 "metadata": {
  "kernelspec": {
   "display_name": "Python 3",
   "language": "python",
   "name": "python3"
  },
  "language_info": {
   "codemirror_mode": {
    "name": "ipython",
    "version": 3
   },
   "file_extension": ".py",
   "mimetype": "text/x-python",
   "name": "python",
   "nbconvert_exporter": "python",
   "pygments_lexer": "ipython3",
   "version": "3.13.2"
  }
 },
 "nbformat": 4,
 "nbformat_minor": 2
}
