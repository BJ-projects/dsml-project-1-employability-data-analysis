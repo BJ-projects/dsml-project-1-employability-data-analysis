{
 "cells": [
  {
   "cell_type": "code",
   "execution_count": 1,
   "metadata": {},
   "outputs": [],
   "source": [
    "import pandas as pd\n",
    "import matplotlib.pyplot as plt\n",
    "import seaborn as sns"
   ]
  },
  {
   "cell_type": "code",
   "execution_count": 2,
   "metadata": {},
   "outputs": [],
   "source": [
    "data = pd.read_excel(\"../private_data/data/cleaned_data/cleaned_data.xlsx\")"
   ]
  },
  {
   "cell_type": "code",
   "execution_count": 3,
   "metadata": {},
   "outputs": [],
   "source": [
    "# only students with dev job or those 7 that went on the right path by mistake\n",
    "students_with_success_factors = data[data[\"job_success_factors\"].notnull()] "
   ]
  },
  {
   "cell_type": "code",
   "execution_count": 4,
   "metadata": {},
   "outputs": [
    {
     "data": {
      "text/plain": [
       "np.int64(65)"
      ]
     },
     "execution_count": 4,
     "metadata": {},
     "output_type": "execute_result"
    }
   ],
   "source": [
    "students_with_success_factors[\"ct_student_id\"].count()"
   ]
  },
  {
   "cell_type": "code",
   "execution_count": 5,
   "metadata": {},
   "outputs": [
    {
     "data": {
      "text/plain": [
       "job_success_factors\n",
       "Good communication and soft skills                46\n",
       "Persistance                                       31\n",
       "Discipline and hard work                          27\n",
       "Good coding skills                                26\n",
       "Networking and contacts                           24\n",
       "Other                                             21\n",
       "I practiced a lot for technical interviews        18\n",
       "I practiced a lot for non-technical interviews    17\n",
       "Strong portfolio or personal projects             16\n",
       "Name: count, dtype: int64"
      ]
     },
     "execution_count": 5,
     "metadata": {},
     "output_type": "execute_result"
    }
   ],
   "source": [
    "# Step-by-step breakdown\n",
    "all_success_factors = students_with_success_factors['job_success_factors'] \\\n",
    "    .str.split(',') \\\n",
    "    .explode() \\\n",
    "    .str.strip()\n",
    "\n",
    "# Count frequency\n",
    "all_success_factors.value_counts()"
   ]
  }
 ],
 "metadata": {
  "kernelspec": {
   "display_name": "Python 3",
   "language": "python",
   "name": "python3"
  },
  "language_info": {
   "codemirror_mode": {
    "name": "ipython",
    "version": 3
   },
   "file_extension": ".py",
   "mimetype": "text/x-python",
   "name": "python",
   "nbconvert_exporter": "python",
   "pygments_lexer": "ipython3",
   "version": "3.13.2"
  }
 },
 "nbformat": 4,
 "nbformat_minor": 2
}
