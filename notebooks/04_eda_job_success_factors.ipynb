{
 "cells": [
  {
   "cell_type": "code",
   "execution_count": null,
   "metadata": {},
   "outputs": [],
   "source": [
    "import pandas as pd\n",
    "# import matplotlib.pyplot as plt\n",
    "# import seaborn as sns"
   ]
  },
  {
   "cell_type": "code",
   "execution_count": null,
   "metadata": {},
   "outputs": [],
   "source": [
    "data = pd.read_excel(\"../private_data/data/cleaned_data/cleaned_data.xlsx\")"
   ]
  },
  {
   "cell_type": "code",
   "execution_count": null,
   "metadata": {},
   "outputs": [],
   "source": [
    "# only students with dev job or those 7 that went on the right path by mistake\n",
    "students_with_success_factors = data[data[\"job_success_factors\"].notnull()] "
   ]
  },
  {
   "cell_type": "code",
   "execution_count": null,
   "metadata": {},
   "outputs": [],
   "source": [
    "students_with_success_factors[\"ct_student_id\"].count()"
   ]
  },
  {
   "cell_type": "code",
   "execution_count": null,
   "metadata": {},
   "outputs": [],
   "source": [
    "# Step-by-step breakdown\n",
    "all_success_factors = students_with_success_factors['job_success_factors'] \\\n",
    "    .str.split(',') \\\n",
    "    .explode() \\\n",
    "    .str.strip()\n",
    "\n",
    "# Count frequency\n",
    "all_success_factors.value_counts()"
   ]
  },
  {
   "cell_type": "code",
   "execution_count": null,
   "metadata": {},
   "outputs": [],
   "source": [
    "for val in students_with_success_factors[students_with_success_factors[\"other_job_success_factor\"].notna()][\"other_job_success_factor\"]:\n",
    "    print(val)"
   ]
  },
  {
   "cell_type": "code",
   "execution_count": null,
   "metadata": {},
   "outputs": [],
   "source": [
    "test = students_with_success_factors[students_with_success_factors[\"other_job_success_factor\"].isna()]\n",
    "test2 = students_with_success_factors[students_with_success_factors[\"other_job_success_factor\"].notna()]\n",
    "\n",
    "print(test.shape)\n",
    "print(test2.shape)\n"
   ]
  }
 ],
 "metadata": {
  "kernelspec": {
   "display_name": "Python 3",
   "language": "python",
   "name": "python3"
  },
  "language_info": {
   "codemirror_mode": {
    "name": "ipython",
    "version": 3
   },
   "file_extension": ".py",
   "mimetype": "text/x-python",
   "name": "python",
   "nbconvert_exporter": "python",
   "pygments_lexer": "ipython3",
   "version": "3.13.2"
  }
 },
 "nbformat": 4,
 "nbformat_minor": 2
}
