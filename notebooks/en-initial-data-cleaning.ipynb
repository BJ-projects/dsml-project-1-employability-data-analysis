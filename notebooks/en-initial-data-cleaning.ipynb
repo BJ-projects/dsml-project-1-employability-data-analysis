{
 "cells": [
  {
   "cell_type": "code",
   "execution_count": null,
   "metadata": {},
   "outputs": [],
   "source": [
    "# for changing the column names in english data\n",
    "en_column_dict = {\n",
    "  \"Please enter your full name\": \"name\",\n",
    "  \"Before you started the bootcamp, what best described your previous experience?\": \"pre_bootcamp_coding_experience\",\n",
    "  \"Which of the following best describes your situation after the bootcamp\": \"post_bootcamp_situation\",\n",
    "  \"In which country did you find a job?\": \"job_country\",\n",
    "  \"How long did it take you to find a job ?\": \"time_to_job\",\n",
    "  \"Do you feel the bootcamp helped you to get this job?\": \"did_bootcamp_helped\",\n",
    "  \"What would you say were main factors that helped you get that job? You can select multiple.\": \"job_success_factors\",\n",
    "  \"At the moment, are you actively looking for a job as a Web Developer (or similar roles) ?\": \"is_job_hunting\",\n",
    "  \"If you are not looking for a job, or If you feel you're putting little to no effort, what do you think are the main reasons for that? You can select multiple.\": \"job_hunt_blockers\",\n",
    "  \"In which country you are or you were mainly searching for a job?\": \"search_country\",\n",
    "  \"With how many companies did you have an interview processes that involved in-depth interviews (not just short screening calls)?  \": \"company_interview_qty\",\n",
    "  \"During your job search, how many hours PER WEEK did you usually spend applying for jobs (job applications, interviews, improve linkedin, cv,....) ?\": \"job_search_week_hours\",\n",
    "  \"During your job search, how many hours PER WEEK did you usually spend coding (projects, katas, courses, tutorials,...) ?\": \"coding_week_hours\",\n",
    "  \"Which of the following describes your main focus during the job search.\": \"job_search_focus\",\n",
    "  \"Did you learn any new technologies during your job search? If so, please list the main ones.\": \"new_learned_techs\",\n",
    "  \"During your job search, did you create any additional projects or side projects that you would add to your Portfolio ?\": \"new_projects_qty\",\n",
    "  \"During your job search, did you create a Portfolio Website?\": \"did_create_portfolio\",\n",
    "  \"Do you want to add any comments, recommendations for us (teachers), or recommendations for other students ?\": \"final_comments\",\n",
    "}\n",
    "\n",
    "en_data = en_data.rename(columns=en_column_dict)"
   ]
  }
 ],
 "metadata": {
  "language_info": {
   "name": "python"
  }
 },
 "nbformat": 4,
 "nbformat_minor": 2
}
