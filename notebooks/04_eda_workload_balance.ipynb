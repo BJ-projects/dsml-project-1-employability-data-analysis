{
 "cells": [
  {
   "cell_type": "code",
   "execution_count": null,
   "metadata": {},
   "outputs": [],
   "source": [
    "import sys\n",
    "import os\n",
    "import pandas as pd\n",
    "import matplotlib.pyplot as plt\n",
    "import seaborn as sns\n",
    "from IPython.display import Markdown\n",
    "\n",
    "sys.path.append(os.path.abspath(os.path.join(os.getcwd(), \"../scripts/eda/\")))\n",
    "from group_by_column_vs_has_dev_job import group_by_column_vs_has_dev_job"
   ]
  },
  {
   "cell_type": "code",
   "execution_count": null,
   "metadata": {},
   "outputs": [],
   "source": [
    "data = pd.read_excel(\"../private_data/data/cleaned_data/cleaned_data.xlsx\")"
   ]
  },
  {
   "cell_type": "markdown",
   "metadata": {},
   "source": [
    "## Filter only relevant students\n",
    "\n",
    "\n"
   ]
  },
  {
   "cell_type": "code",
   "execution_count": null,
   "metadata": {},
   "outputs": [],
   "source": [
    "#\n",
    "# Filter students that spent some minimum workload\n",
    "#\n",
    "\n",
    "data = data[data[\"total_hours\"] > 15]\n",
    "\n",
    "\n",
    "\n",
    "#\n",
    "# Filter:: students that found a dev job AND students that didn't find a job.\n",
    "#\n",
    "# (ie. we're not considering students that found a job but it's not related to the bootcamp)\n",
    "#\n",
    "\n",
    "data = data[(data[\"post_bootcamp_situation\"] != \"I found a job, but is not related to the bootcamp\")]\n",
    "\n",
    "\n"
   ]
  },
  {
   "cell_type": "markdown",
   "metadata": {},
   "source": [
    "## EDA"
   ]
  },
  {
   "cell_type": "code",
   "execution_count": null,
   "metadata": {},
   "outputs": [],
   "source": [
    "#\n",
    "# students that keep a good balance between hours searching & hours coding, have higher chances of getting a job.\n",
    "#\n",
    "\n",
    "# all students\n",
    "display(Markdown(\"<br>\"))\n",
    "display(Markdown(\"### Workload balance\"))\n",
    "display(Markdown(\"- zero == similar workload (ie. spent a similar amount of time searching than coding)\"))\n",
    "display(Markdown(\"- negative == more hours coding\"))\n",
    "display(Markdown(\"- positive == more hours searching\"))\n",
    "data_to_analyze = data\n",
    "r1 = group_by_column_vs_has_dev_job(data_to_analyze, \"workload_balance_diff\")\n",
    "display(r1)\n",
    "\n",
    "# # only students with a minimum workload\n",
    "# display(Markdown(\"<br>\"))\n",
    "# display(Markdown(\"### Workload balance (only students with a minimum workload)\"))\n",
    "# students_with_min_workload = data[data[\"total_hours\"] >= 15]\n",
    "# r2 = group_by_column_vs_has_dev_job(students_with_min_workload, \"workload_balance_diff\")\n",
    "# display(r2)\n",
    "\n",
    "# # only recent students\n",
    "# display(Markdown(\"<br>\"))\n",
    "# display(Markdown(\"### Workload balance (only recent students)\"))\n",
    "# students_2023_and_2024 = data[data[\"cohort_start_month\"].str.startswith((\"2023\", \"2024\"))]\n",
    "# r3 = group_by_column_vs_has_dev_job(students_2023_and_2024, \"workload_balance_diff\")\n",
    "# display(r3)\n",
    "\n"
   ]
  },
  {
   "cell_type": "code",
   "execution_count": null,
   "metadata": {},
   "outputs": [],
   "source": [
    "\n",
    "workload_df = data[[\"workload_balance_diff\", \"has_dev_job\"]].copy()\n",
    "\n",
    "update_balance_dict = {-1: \"Lean towards coding\", 1: \"Lean towards search\", 0: \"Balanced\"}\n",
    "workload_df[\"workload_balance_diff\"] = workload_df[\"workload_balance_diff\"].replace(update_balance_dict)\n",
    "\n",
    "update_boolean_dict = {True: 1, False: 0}\n",
    "workload_df[\"has_dev_job\"] = workload_df[\"has_dev_job\"].replace(update_boolean_dict)\n",
    "\n",
    "workload_df"
   ]
  },
  {
   "cell_type": "code",
   "execution_count": null,
   "metadata": {},
   "outputs": [],
   "source": [
    "# Count of each category in workload_balance_diff\n",
    "print(\"\\nDistribution of workload balance categories:\")\n",
    "print(workload_df['workload_balance_diff'].value_counts())"
   ]
  },
  {
   "cell_type": "markdown",
   "metadata": {},
   "source": [
    "## chi2_contingency"
   ]
  },
  {
   "cell_type": "code",
   "execution_count": null,
   "metadata": {},
   "outputs": [],
   "source": [
    "from scipy.stats import chi2_contingency"
   ]
  },
  {
   "cell_type": "code",
   "execution_count": null,
   "metadata": {},
   "outputs": [],
   "source": [
    "#\n",
    "# Hypothesis 1: students that keep a good balance, have better chances of getting a job than students that lean towards coding\n",
    "# - H0: job success if lean towards coding >= job success if good balance\n",
    "# - Ha: job success if good balance > job success if lean towards coding\n",
    "\n",
    "\n",
    "# Filter the data for the two groups of interest\n",
    "filtered_df = workload_df[workload_df['workload_balance_diff'].isin(['Lean towards coding', 'Balanced'])]\n",
    "\n",
    "# Create a contingency table for these two groups\n",
    "contingency_table = pd.crosstab(filtered_df['workload_balance_diff'], filtered_df['has_dev_job'])\n",
    "\n",
    "# Perform the Chi-Square test\n",
    "_, pvalue, _, _ = chi2_contingency(contingency_table)\n",
    "\n",
    "display(f\"p-value: {pvalue}\")\n",
    "\n"
   ]
  },
  {
   "cell_type": "code",
   "execution_count": null,
   "metadata": {},
   "outputs": [],
   "source": [
    "#\n",
    "# Hypothesis 2: students that keep a good balance, have better chances of getting a job than students that lean towards search\n",
    "# - H0: job success if lean towards search >= job success if good balance\n",
    "# - Ha: job success if good balance > job success if lean towards search\n",
    "\n",
    "\n",
    "# Filter the data for the two groups of interest\n",
    "filtered_df = workload_df[workload_df['workload_balance_diff'].isin(['Lean towards search', 'Balanced'])]\n",
    "\n",
    "# Create a contingency table for these two groups\n",
    "contingency_table = pd.crosstab(filtered_df['workload_balance_diff'], filtered_df['has_dev_job'])\n",
    "\n",
    "# Perform the Chi-Square test\n",
    "_, pvalue, _, _ = chi2_contingency(contingency_table)\n",
    "\n",
    "print(pvalue)"
   ]
  },
  {
   "cell_type": "code",
   "execution_count": null,
   "metadata": {},
   "outputs": [],
   "source": [
    "#\n",
    "# Hypothesis 3: students that lean towards coding, have better chances of getting a job than students that lean towards search\n",
    "# - H0: job success if lean towards search >= job success if lean towards coding\n",
    "# - Ha: job success if lean towards coding > job success if lean towards search\n",
    "\n",
    "\n",
    "# Filter the data for the two groups of interest\n",
    "filtered_df = workload_df[workload_df['workload_balance_diff'].isin(['Lean towards search', 'Lean towards coding'])]\n",
    "\n",
    "# Create a contingency table for these two groups\n",
    "contingency_table = pd.crosstab(filtered_df['workload_balance_diff'], filtered_df['has_dev_job'])\n",
    "\n",
    "# Perform the Chi-Square test\n",
    "_, pvalue, _, _ = chi2_contingency(contingency_table)\n",
    "\n",
    "print(pvalue)"
   ]
  },
  {
   "cell_type": "markdown",
   "metadata": {},
   "source": [
    "## chi2_contingency + chart"
   ]
  },
  {
   "cell_type": "code",
   "execution_count": null,
   "metadata": {},
   "outputs": [],
   "source": [
    "import pandas as pd\n",
    "import numpy as np\n",
    "import matplotlib.pyplot as plt\n",
    "import seaborn as sns\n",
    "from scipy import stats\n",
    "\n",
    "\n",
    "\n",
    "# Calculate job success rate for each workload balance category\n",
    "job_rates = workload_df.groupby('workload_balance_diff')['has_dev_job'].mean()\n",
    "print(\"\\nJob success rate for each category:\")\n",
    "print(job_rates)\n",
    "\n",
    "# get data to test the hypothesis that balanced > lean towards coding\n",
    "balanced_data = workload_df[workload_df['workload_balance_diff'] == 'Balanced']['has_dev_job']\n",
    "coding_data = workload_df[workload_df['workload_balance_diff'] == 'Lean towards coding']['has_dev_job']\n",
    "\n",
    "# Create contingency table for these two categories\n",
    "contingency = pd.crosstab(\n",
    "    workload_df[workload_df['workload_balance_diff'].isin(['Balanced', 'Lean towards coding'])]['workload_balance_diff'],\n",
    "    workload_df[workload_df['workload_balance_diff'].isin(['Balanced', 'Lean towards coding'])]['has_dev_job']\n",
    ")\n",
    "display(\"\\nContingency table (Balanced vs. Lean towards coding):\")\n",
    "display(contingency)\n",
    "\n",
    "# Perform chi-square test\n",
    "chi2, p_value, dof, expected = stats.chi2_contingency(contingency)\n",
    "print(f\"\\nChi-square test results:\")\n",
    "print(f\"Chi-square value: {chi2:.4f}\")\n",
    "print(f\"p-value: {p_value:.4f}\")\n",
    "print(f\"Degrees of freedom: {dof}\")\n",
    "\n",
    "# Perform z-test for proportions\n",
    "balanced_success = balanced_data.sum()\n",
    "balanced_total = len(balanced_data)\n",
    "coding_success = coding_data.sum()\n",
    "coding_total = len(coding_data)\n",
    "\n",
    "balanced_rate = balanced_success / balanced_total\n",
    "coding_rate = coding_success / coding_total\n",
    "\n",
    "# Calculate z-statistic for one-tailed test\n",
    "pooled_p = (balanced_success + coding_success) / (balanced_total + coding_total)\n",
    "se = np.sqrt(pooled_p * (1 - pooled_p) * (1/balanced_total + 1/coding_total))\n",
    "z_stat = (balanced_rate - coding_rate) / se\n",
    "p_value_z = 1 - stats.norm.cdf(z_stat)  # One-tailed test\n",
    "\n",
    "print(\"\\nZ-test for proportions:\")\n",
    "print(f\"Balanced success rate: {balanced_rate:.4f} ({balanced_success}/{balanced_total})\")\n",
    "print(f\"Coding success rate: {coding_rate:.4f} ({coding_success}/{coding_total})\")\n",
    "print(f\"Z-statistic: {z_stat:.4f}\")\n",
    "print(f\"p-value (one-tailed): {p_value_z:.4f}\")\n",
    "\n",
    "# Display chart with job success rates\n",
    "plt.figure(figsize=(10, 6))\n",
    "sns.barplot(x=job_rates.index, y=job_rates.values)\n",
    "plt.title('Job Success Rate by Workload Balance Strategy')\n",
    "plt.xlabel('Workload Balance Strategy')\n",
    "plt.ylabel('Job Success Rate')\n",
    "plt.ylim(0, 1)\n",
    "plt.xticks(rotation=45)\n",
    "plt.tight_layout()\n",
    "plt.show()\n",
    "\n",
    "# Final conclusion\n",
    "alpha = 0.05\n",
    "print(\"\\nHypothesis Test Conclusion:\")\n",
    "if p_value_z < alpha:\n",
    "    print(f\"At α = {alpha}, we reject the null hypothesis.\")\n",
    "    print(\"There is statistically significant evidence that students with a balanced workload\")\n",
    "    print(\"have a higher job success rate than those who lean towards coding.\")\n",
    "else:\n",
    "    print(f\"At α = {alpha}, we fail to reject the null hypothesis.\")\n",
    "    print(\"There is insufficient evidence to conclude that students with a balanced workload\")\n",
    "    print(\"have a higher job success rate than those who lean towards coding.\")"
   ]
  },
  {
   "cell_type": "markdown",
   "metadata": {},
   "source": [
    "## proportions_ztest"
   ]
  },
  {
   "cell_type": "code",
   "execution_count": null,
   "metadata": {},
   "outputs": [],
   "source": [
    "import pandas as pd\n",
    "from statsmodels.stats.proportion import proportions_ztest\n",
    "\n",
    "# Assuming your DataFrame is called df\n",
    "\n",
    "# Function to perform z-test between two workload groups\n",
    "def z_test_between_groups(df, group1, group2):\n",
    "    # Get counts of successes (has_dev_job == 1)\n",
    "    success_counts = [\n",
    "        df[(df['workload_balance_diff'] == group1) & (df['has_dev_job'] == 1)].shape[0],\n",
    "        df[(df['workload_balance_diff'] == group2) & (df['has_dev_job'] == 1)].shape[0]\n",
    "    ]\n",
    "\n",
    "    # Get total sample sizes for both groups\n",
    "    nobs = [\n",
    "        df[df['workload_balance_diff'] == group1].shape[0],\n",
    "        df[df['workload_balance_diff'] == group2].shape[0]\n",
    "    ]\n",
    "\n",
    "    stat, pval = proportions_ztest(success_counts, nobs)\n",
    "    return pval\n",
    "\n",
    "# Test 1: Leans Towards Search vs Balanced\n",
    "pval_search_vs_balanced = z_test_between_groups(workload_df, \"Lean towards search\", \"Balanced\")\n",
    "\n",
    "# Test 2: Leans Towards Coding vs Balanced\n",
    "pval_coding_vs_balanced = z_test_between_groups(workload_df, \"Lean towards coding\", \"Balanced\")\n",
    "\n",
    "print(\"P-value (search vs balanced):\", pval_search_vs_balanced)\n",
    "print(\"P-value (coding vs balanced):\", pval_coding_vs_balanced)\n",
    "\n",
    "\n"
   ]
  },
  {
   "cell_type": "markdown",
   "metadata": {},
   "source": [
    "##  t-test independent"
   ]
  },
  {
   "cell_type": "code",
   "execution_count": null,
   "metadata": {},
   "outputs": [],
   "source": [
    "from scipy.stats import ttest_ind\n"
   ]
  },
  {
   "cell_type": "code",
   "execution_count": null,
   "metadata": {},
   "outputs": [],
   "source": [
    "workload_df[\"workload_balance_diff\"].value_counts()\n",
    "\n",
    "\n",
    "balanced_series = workload_df[workload_df[\"workload_balance_diff\"] == \"Balanced\"][\"has_dev_job\"]\n",
    "lean_search_series = workload_df[workload_df[\"workload_balance_diff\"] == \"Lean towards search\"][\"has_dev_job\"]\n",
    "lean_coding_series = workload_df[workload_df[\"workload_balance_diff\"] == \"Lean towards coding\"][\"has_dev_job\"]\n",
    "\n",
    "display(\"Number of students in the sample:\")\n",
    "display(f\"balanced_series: {len(balanced_series)}\")\n",
    "display(f\"lean_search_series: {len(lean_search_series)}\")\n",
    "display(f\"lean_coding_series: {len(lean_coding_series)}\")\n",
    "\n",
    "\n",
    "# balanced vs. lean towards search\n",
    "statistic, pvalue = ttest_ind(balanced_series, lean_search_series, equal_var=False)\n",
    "print(f\"{round(pvalue, 4)} (P-value balanced vs. lean towards search) \")\n",
    "\n",
    "# balanced vs. lean towards coding\n",
    "statistic, pvalue = ttest_ind(balanced_series, lean_coding_series, equal_var=False)\n",
    "print(f\"{round(pvalue, 4)} (P-value balanced vs. lean towards coding) \")\n",
    "\n",
    "# lean towards search vs. lean towards coding\n",
    "statistic, pvalue = ttest_ind(lean_search_series, lean_coding_series, equal_var=False)\n",
    "print(f\"{round(pvalue, 4)} (P-value lean towards search vs. lean towards coding) \")\n"
   ]
  }
 ],
 "metadata": {
  "kernelspec": {
   "display_name": "Python 3",
   "language": "python",
   "name": "python3"
  },
  "language_info": {
   "codemirror_mode": {
    "name": "ipython",
    "version": 3
   },
   "file_extension": ".py",
   "mimetype": "text/x-python",
   "name": "python",
   "nbconvert_exporter": "python",
   "pygments_lexer": "ipython3",
   "version": "3.13.2"
  }
 },
 "nbformat": 4,
 "nbformat_minor": 2
}
