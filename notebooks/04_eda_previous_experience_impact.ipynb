{
 "cells": [
  {
   "cell_type": "code",
   "execution_count": 1,
   "metadata": {},
   "outputs": [],
   "source": [
    "import pandas as pd"
   ]
  },
  {
   "cell_type": "code",
   "execution_count": 2,
   "metadata": {},
   "outputs": [],
   "source": [
    "data = pd.read_excel(\"../private_data/data/cleaned_data/cleaned_data.xlsx\")"
   ]
  },
  {
   "cell_type": "code",
   "execution_count": 3,
   "metadata": {},
   "outputs": [
    {
     "data": {
      "text/plain": [
       "Index(['Unnamed: 0', 'ct_student_id', 'cohort_start_month', 'cohort_language',\n",
       "       'pre_bootcamp_coding_experience', 'post_bootcamp_situation',\n",
       "       'job_country', 'time_to_job', 'did_bootcamp_helped',\n",
       "       'job_success_factors', 'is_job_hunting', 'job_hunt_blockers',\n",
       "       'search_country', 'company_interview_qty', 'job_search_week_hours',\n",
       "       'coding_week_hours', 'job_search_focus', 'new_learned_techs',\n",
       "       'new_projects_qty', 'did_create_portfolio', 'other_job_hunt_blocker',\n",
       "       'other_job_success_factor', 'has_dev_job'],\n",
       "      dtype='object')"
      ]
     },
     "execution_count": 3,
     "metadata": {},
     "output_type": "execute_result"
    }
   ],
   "source": [
    "data.columns"
   ]
  },
  {
   "cell_type": "code",
   "execution_count": 4,
   "metadata": {},
   "outputs": [
    {
     "data": {
      "text/plain": [
       "array(['I had basic coding knowledge', 'I had zero coding knowledge',\n",
       "       'I had medium to advanced coding knowledge',\n",
       "       'I had professional coding knowledge and experience'], dtype=object)"
      ]
     },
     "execution_count": 4,
     "metadata": {},
     "output_type": "execute_result"
    }
   ],
   "source": [
    "data[\"pre_bootcamp_coding_experience\"].unique()"
   ]
  }
 ],
 "metadata": {
  "kernelspec": {
   "display_name": "Python 3",
   "language": "python",
   "name": "python3"
  },
  "language_info": {
   "codemirror_mode": {
    "name": "ipython",
    "version": 3
   },
   "file_extension": ".py",
   "mimetype": "text/x-python",
   "name": "python",
   "nbconvert_exporter": "python",
   "pygments_lexer": "ipython3",
   "version": "3.13.2"
  }
 },
 "nbformat": 4,
 "nbformat_minor": 2
}
