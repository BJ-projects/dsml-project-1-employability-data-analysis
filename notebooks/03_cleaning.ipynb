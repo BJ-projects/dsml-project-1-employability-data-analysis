{
 "cells": [
  {
   "cell_type": "code",
   "execution_count": null,
   "metadata": {},
   "outputs": [],
   "source": [
    "import pandas as pd"
   ]
  },
  {
   "cell_type": "code",
   "execution_count": null,
   "metadata": {},
   "outputs": [],
   "source": [
    "data = pd.read_excel(\"../private_data/data/survey_results_aggregated/data.xlsx\")"
   ]
  },
  {
   "cell_type": "code",
   "execution_count": null,
   "metadata": {},
   "outputs": [],
   "source": [
    "#\n",
    "# clean country values\n",
    "#\n",
    "data['job_country'] = data['job_country'].str.strip()\n",
    "data['search_country'] = data['search_country'].str.strip()\n",
    "\n",
    "country_dict = {\n",
    "  \"España, Presencial en Sevilla\": \"Spain\",\n",
    "  \"españa\": \"Spain\",\n",
    "  \"Paris,France\": \"France\",\n",
    "  \"germany\": \"Germany\",\n",
    "  \"United Kingdom\": \"UK\",\n",
    "  \"The Netherlands\": \"Netherlands\",\n",
    "  \"Netherlands, but also applying to jobs in the UK and Europe\": \"Netherlands\",\n",
    "  \"Emea\": \"Other\",\n",
    "  \"UK, Ireland, France, Spain\": \"Other\",\n",
    "  \"Switzerland and France\": \"Other\",\n",
    "  \"Europe\": \"Other\",\n",
    "}\n",
    "data['job_country'] = data['job_country'].replace(country_dict)\n",
    "data['search_country'] = data['search_country'].replace(country_dict)"
   ]
  },
  {
   "cell_type": "code",
   "execution_count": null,
   "metadata": {},
   "outputs": [],
   "source": [
    "#\n",
    "# convert cohort to string and remove all but year and month\n",
    "#\n",
    "def clean_cohort(string):\n",
    "  return str(string)[0:7]\n",
    "\n",
    "data[\"cohort_start_month\"] = data[\"cohort_start_month\"].apply(clean_cohort)"
   ]
  },
  {
   "cell_type": "code",
   "execution_count": null,
   "metadata": {},
   "outputs": [],
   "source": [
    "#\n",
    "# add simple boolean if students found a developer job\n",
    "#\n",
    "def add_dev_job_situation(response):\n",
    "  if  (response == \"I found a Full-Time job as a developer (or a similar role)\" \n",
    "      or response == \"I found a Part-Time job as a developer (or a similar role)\" \n",
    "      or response == \"I found work as a Freelance developer, with a relevant source of income\"):\n",
    "    return True\n",
    "  else:\n",
    "    return False\n",
    "    \n",
    "\n",
    "data[\"has_dev_job\"] = data[\"post_bootcamp_situation\"].apply(add_dev_job_situation)"
   ]
  },
  {
   "cell_type": "code",
   "execution_count": null,
   "metadata": {},
   "outputs": [],
   "source": [
    "#\n",
    "# change Yes/No questions to booleans\n",
    "#\n",
    "update_bool_dict = {\"Yes\": True, \"No\": False}\n",
    "\n",
    "data[\"did_bootcamp_helped\"] = data[\"did_bootcamp_helped\"].replace(update_bool_dict)\n",
    "data[\"did_create_portfolio\"] = data[\"did_create_portfolio\"].replace(update_bool_dict)\n"
   ]
  },
  {
   "cell_type": "code",
   "execution_count": null,
   "metadata": {},
   "outputs": [],
   "source": [
    "#\n",
    "# update values for number of projects\n",
    "#\n",
    "\n",
    "new_project_qty_dict = {\n",
    "  \"No, I haven't\": \"No Projects\", \n",
    "  'Yes, I created 1': \"1 Project\",\n",
    "  'Yes, I created 2 to 3': \"2 to 3 Projects\",\n",
    "  'Yes, I created more than 3': \"More than 3 Projects\"\n",
    "}\n",
    "\n",
    "data[\"new_projects_qty\"] = data[\"new_projects_qty\"].replace(new_project_qty_dict)"
   ]
  },
  {
   "cell_type": "code",
   "execution_count": null,
   "metadata": {},
   "outputs": [],
   "source": [
    "#\n",
    "# update values for number of interviews\n",
    "#\n",
    "\n",
    "data[\"company_interview_qty\"] = data[\"company_interview_qty\"].replace({\n",
    "  \"I didn't have interviews or just very short ones\": \"0 companies\"\n",
    "})"
   ]
  },
  {
   "cell_type": "code",
   "execution_count": null,
   "metadata": {},
   "outputs": [],
   "source": [
    "# \n",
    "# compute total number of hours (total_hours = job_search_week_hours + coding_week_hours)\n",
    "# \n",
    "\n",
    "map_hours_to_number = {\n",
    "    'Less than 5': 2.5,\n",
    "    'Between 5 and 10': 7.5,\n",
    "    'Between 10 and 20': 15,\n",
    "    'Between 20 and 30': 25,\n",
    "    'More than 30': 35\n",
    "}\n",
    "\n",
    "def compute_total_hours(row):\n",
    "    hours_searching = map_hours_to_number[row[\"job_search_week_hours\"]]\n",
    "    hours_coding = map_hours_to_number[row[\"coding_week_hours\"]]\n",
    "    return hours_searching + hours_coding\n",
    "\n",
    "\n",
    "if \"total_hours\" not in data.columns:\n",
    "    col_to_insert_after = \"coding_week_hours\"\n",
    "    idx = data.columns.get_loc(col_to_insert_after) + 1\n",
    "    data.insert(idx, \"total_hours\", data.apply(compute_total_hours, axis=1))\n"
   ]
  },
  {
   "cell_type": "code",
   "execution_count": null,
   "metadata": {},
   "outputs": [],
   "source": [
    "# \n",
    "# compute workload_balance_diff (the difference between job_search_week_hours and coding_week_hours)\n",
    "# \n",
    "# Note: we'll calculate it as the difference in buckets (rather than estimated hours)\n",
    "# \n",
    "\n",
    "map_hours_to_index = {\n",
    "    'Less than 5': 0,\n",
    "    'Between 5 and 10': 1,\n",
    "    'Between 10 and 20': 2,\n",
    "    'Between 20 and 30': 3,\n",
    "    'More than 30': 4\n",
    "}\n",
    "\n",
    "def compute_diff(row):\n",
    "    hours_searching_index = map_hours_to_index[row[\"job_search_week_hours\"]]\n",
    "    hours_coding_index = map_hours_to_index[row[\"coding_week_hours\"]]\n",
    "    diff = hours_searching_index - hours_coding_index # negative == more hours coding\n",
    "    if(diff == 0):\n",
    "        return 0\n",
    "    elif(diff < 0):\n",
    "        return -1\n",
    "    elif(diff > 0):\n",
    "        return 1\n",
    "    return diff\n",
    "\n",
    "\n",
    "if \"workload_balance_diff\" not in data.columns:\n",
    "    col_to_insert_after = 'total_hours'\n",
    "    idx = data.columns.get_loc(col_to_insert_after) + 1\n",
    "    data.insert(idx, \"workload_balance_diff\", data.apply(compute_diff, axis=1))\n"
   ]
  },
  {
   "cell_type": "code",
   "execution_count": null,
   "metadata": {},
   "outputs": [],
   "source": [
    "\n",
    "data.to_excel(\"../private_data/data/cleaned_data/cleaned_data.xlsx\")"
   ]
  }
 ],
 "metadata": {
  "kernelspec": {
   "display_name": "Python 3",
   "language": "python",
   "name": "python3"
  },
  "language_info": {
   "codemirror_mode": {
    "name": "ipython",
    "version": 3
   },
   "file_extension": ".py",
   "mimetype": "text/x-python",
   "name": "python",
   "nbconvert_exporter": "python",
   "pygments_lexer": "ipython3",
   "version": "3.13.2"
  }
 },
 "nbformat": 4,
 "nbformat_minor": 2
}
