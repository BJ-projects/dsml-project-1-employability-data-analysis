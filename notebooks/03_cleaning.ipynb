{
 "cells": [
  {
   "cell_type": "code",
   "execution_count": null,
   "metadata": {},
   "outputs": [],
   "source": [
    "import pandas as pd"
   ]
  },
  {
   "cell_type": "code",
   "execution_count": null,
   "metadata": {},
   "outputs": [],
   "source": [
    "data = pd.read_excel(\"../private_data/survey_results_aggregated/data.xlsx\")"
   ]
  },
  {
   "cell_type": "code",
   "execution_count": null,
   "metadata": {},
   "outputs": [],
   "source": [
    "# country cleaning\n",
    "data['job_country'] = data['job_country'].str.strip()\n",
    "data['search_country'] = data['search_country'].str.strip()\n",
    "\n",
    "country_dict = {\n",
    "  \"España, Presencial en Sevilla\": \"Spain\",\n",
    "  \"españa\": \"Spain\",\n",
    "  \"Paris,France\": \"France\",\n",
    "  \"germany\": \"Germany\",\n",
    "  \"United Kingdom\": \"UK\",\n",
    "  \"The Netherlands\": \"Netherlands\",\n",
    "  \"Netherlands, but also applying to jobs in the UK and Europe\": \"Netherlands\",\n",
    "  \"Emea\": \"Other\",\n",
    "  \"UK, Ireland, France, Spain\": \"Other\",\n",
    "  \"Switzerland and France\": \"Other\",\n",
    "  \"Europe\": \"Other\",\n",
    "}\n",
    "data['job_country'] = data['job_country'].replace(country_dict)\n",
    "data['search_country'] = data['search_country'].replace(country_dict)"
   ]
  },
  {
   "cell_type": "code",
   "execution_count": null,
   "metadata": {},
   "outputs": [],
   "source": [
    "# data.groupby([\"search_country\"]).agg({\"search_country\": \"count\"})"
   ]
  },
  {
   "cell_type": "code",
   "execution_count": null,
   "metadata": {},
   "outputs": [],
   "source": [
    "# learned techs cleaning\n",
    "data.columns"
   ]
  },
  {
   "cell_type": "code",
   "execution_count": null,
   "metadata": {},
   "outputs": [],
   "source": [
    "students_with_dev_job = data[\n",
    "  (data[\"post_bootcamp_situation\"] == \"I found a Full-Time job as a developer (or a similar role)\") |\n",
    "  (data[\"post_bootcamp_situation\"] == \"I found a Part-Time job as a developer (or a similar role)\") |\n",
    "  (data[\"post_bootcamp_situation\"] == \"I found work as a Freelance developer, with a relevant source of income\")\n",
    "]\n",
    "\n",
    "students_with_not_dev_job = data[\n",
    "  data[\"post_bootcamp_situation\"] == \"I found a job, but is not related to the bootcamp\"\n",
    "]\n",
    "\n",
    "students_with_no_job = data[\n",
    "  data[\"post_bootcamp_situation\"] == \"I haven't found a job.\"\n",
    "]"
   ]
  },
  {
   "cell_type": "code",
   "execution_count": null,
   "metadata": {},
   "outputs": [],
   "source": [
    "students_with_dev_job.count()"
   ]
  },
  {
   "cell_type": "code",
   "execution_count": null,
   "metadata": {},
   "outputs": [],
   "source": [
    "students_with_not_dev_job.count()"
   ]
  },
  {
   "cell_type": "code",
   "execution_count": null,
   "metadata": {},
   "outputs": [],
   "source": [
    "students_with_no_job.count()"
   ]
  },
  {
   "cell_type": "code",
   "execution_count": null,
   "metadata": {},
   "outputs": [],
   "source": [
    "# No se notan patrones en las technologias de estudiantes con trabajo, sin trabajo o trabajo no relacionado."
   ]
  }
 ],
 "metadata": {
  "kernelspec": {
   "display_name": "Python 3",
   "language": "python",
   "name": "python3"
  },
  "language_info": {
   "codemirror_mode": {
    "name": "ipython",
    "version": 3
   },
   "file_extension": ".py",
   "mimetype": "text/x-python",
   "name": "python",
   "nbconvert_exporter": "python",
   "pygments_lexer": "ipython3",
   "version": "3.13.2"
  }
 },
 "nbformat": 4,
 "nbformat_minor": 2
}
