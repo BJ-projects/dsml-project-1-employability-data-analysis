{
 "cells": [
  {
   "cell_type": "code",
   "execution_count": null,
   "metadata": {},
   "outputs": [],
   "source": [
    "import pandas as pd"
   ]
  },
  {
   "cell_type": "code",
   "execution_count": null,
   "metadata": {},
   "outputs": [],
   "source": [
    "data = pd.read_excel(\"../private_data/data/survey_results_aggregated/data.xlsx\")"
   ]
  },
  {
   "cell_type": "code",
   "execution_count": null,
   "metadata": {},
   "outputs": [],
   "source": [
    "# country cleaning\n",
    "data['job_country'] = data['job_country'].str.strip()\n",
    "data['search_country'] = data['search_country'].str.strip()\n",
    "\n",
    "country_dict = {\n",
    "  \"España, Presencial en Sevilla\": \"Spain\",\n",
    "  \"españa\": \"Spain\",\n",
    "  \"Paris,France\": \"France\",\n",
    "  \"germany\": \"Germany\",\n",
    "  \"United Kingdom\": \"UK\",\n",
    "  \"The Netherlands\": \"Netherlands\",\n",
    "  \"Netherlands, but also applying to jobs in the UK and Europe\": \"Netherlands\",\n",
    "  \"Emea\": \"Other\",\n",
    "  \"UK, Ireland, France, Spain\": \"Other\",\n",
    "  \"Switzerland and France\": \"Other\",\n",
    "  \"Europe\": \"Other\",\n",
    "}\n",
    "data['job_country'] = data['job_country'].replace(country_dict)\n",
    "data['search_country'] = data['search_country'].replace(country_dict)"
   ]
  },
  {
   "cell_type": "code",
   "execution_count": null,
   "metadata": {},
   "outputs": [],
   "source": [
    "# learned techs cleaning\n",
    "data.columns"
   ]
  },
  {
   "cell_type": "code",
   "execution_count": null,
   "metadata": {},
   "outputs": [],
   "source": [
    "# converting cohort to string and removing all but year and month\n",
    "def clean_cohort(string):\n",
    "  return str(string)[0:7]\n",
    "\n",
    "data[\"cohort_start_month\"] = data[\"cohort_start_month\"].apply(clean_cohort)"
   ]
  },
  {
   "cell_type": "code",
   "execution_count": null,
   "metadata": {},
   "outputs": [],
   "source": [
    "# added simple boolean if students found a developer job\n",
    "def add_dev_job_situation(response):\n",
    "  if  (response == \"I found a Full-Time job as a developer (or a similar role)\" \n",
    "      or response == \"I found a Part-Time job as a developer (or a similar role)\" \n",
    "      or response == \"I found work as a Freelance developer, with a relevant source of income\"):\n",
    "    return True\n",
    "  else:\n",
    "    return False\n",
    "    \n",
    "\n",
    "data[\"has_dev_job\"] = data[\"post_bootcamp_situation\"].apply(add_dev_job_situation)"
   ]
  },
  {
   "cell_type": "code",
   "execution_count": null,
   "metadata": {},
   "outputs": [],
   "source": [
    "# changing Yes/No questions to booleans\n",
    "update_bool_dict = {\"Yes\": True, \"No\": False}\n",
    "\n",
    "data[\"did_bootcamp_helped\"] = data[\"did_bootcamp_helped\"].replace(update_bool_dict)\n",
    "data[\"did_create_portfolio\"] = data[\"did_create_portfolio\"].replace(update_bool_dict)\n"
   ]
  },
  {
   "cell_type": "code",
   "execution_count": null,
   "metadata": {},
   "outputs": [],
   "source": [
    "# updating quatity response values for simplicity\n",
    "new_project_qty_dict = {\n",
    "  \"No, I haven't\": \"No Projects\", \n",
    "  'Yes, I created 1': \"1 Project\",\n",
    "  'Yes, I created 2 to 3': \"2 to 3 Projects\",\n",
    "  'Yes, I created more than 3': \"More than 3 Projects\"\n",
    "}\n",
    "\n",
    "data[\"new_projects_qty\"] = data[\"new_projects_qty\"].replace(new_project_qty_dict)"
   ]
  },
  {
   "cell_type": "code",
   "execution_count": null,
   "metadata": {},
   "outputs": [],
   "source": [
    "data[\"company_interview_qty\"] = data[\"company_interview_qty\"].replace({\n",
    "  \"I didn't have interviews or just very short ones\": \"0 companies\"\n",
    "})"
   ]
  },
  {
   "cell_type": "code",
   "execution_count": null,
   "metadata": {},
   "outputs": [],
   "source": [
    "data.to_excel(\"../private_data/data/cleaned_data/cleaned_data.xlsx\")"
   ]
  },
  {
   "cell_type": "markdown",
   "metadata": {},
   "source": [
    "#### No se notan patrones en las technologias de estudiantes con trabajo, sin trabajo o trabajo no relacionado."
   ]
  }
 ],
 "metadata": {
  "kernelspec": {
   "display_name": "Python 3",
   "language": "python",
   "name": "python3"
  },
  "language_info": {
   "codemirror_mode": {
    "name": "ipython",
    "version": 3
   },
   "file_extension": ".py",
   "mimetype": "text/x-python",
   "name": "python",
   "nbconvert_exporter": "python",
   "pygments_lexer": "ipython3",
   "version": "3.13.2"
  }
 },
 "nbformat": 4,
 "nbformat_minor": 2
}
