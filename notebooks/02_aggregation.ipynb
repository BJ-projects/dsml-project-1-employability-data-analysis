{
 "cells": [
  {
   "cell_type": "markdown",
   "metadata": {},
   "source": [
    "# Data Aggregation\n"
   ]
  },
  {
   "cell_type": "code",
   "execution_count": null,
   "metadata": {},
   "outputs": [],
   "source": [
    "import pandas as pd\n",
    "\n",
    "import sys\n",
    "import os"
   ]
  },
  {
   "cell_type": "markdown",
   "metadata": {},
   "source": [
    "## Aggregate survey results - English Cohorts"
   ]
  },
  {
   "cell_type": "code",
   "execution_count": null,
   "metadata": {},
   "outputs": [],
   "source": [
    "#\n",
    "# aggregate all results from English cohorts in a single dataframe\n",
    "#\n",
    "\n",
    "path_results_en = \"../private_data/data/survey_results_en/\"\n",
    "\n",
    "cohorts_en = [\n",
    "    \"2021.09\",\n",
    "    \"2022.01\",\n",
    "    \"2022.03\",\n",
    "    \"2022.06\",\n",
    "    \"2022.09\",\n",
    "    \"2022.11\",\n",
    "    \"2023.02\",\n",
    "    \"2023.05\",\n",
    "    \"2023.07\",\n",
    "    \"2023.10\",\n",
    "    \"2024.01\",\n",
    "    \"2024.04\",\n",
    "    \"2024.07\",\n",
    "    \"2024.09\",\n",
    "    \"2025.01\",\n",
    "]\n",
    "\n",
    "dataframes_en = []\n",
    "\n",
    "for cohort in cohorts_en:\n",
    "    new_df = pd.read_excel(f\"{path_results_en}/results_{cohort}.xlsx\")\n",
    "    dataframes_en.append(new_df)\n",
    "\n",
    "merged_df_en = pd.concat(dataframes_en, ignore_index=True)\n",
    "\n",
    "display(f\"Number of entries: {len(merged_df_en) - 1}\")\n",
    "\n",
    "\n",
    "#\n",
    "# Rename columns\n",
    "#\n",
    "\n",
    "sys.path.append(os.path.abspath(os.path.join(os.getcwd(), \"../scripts/aggregation/\")))\n",
    "from rename_columns_en import rename_columns_en\n",
    "\n",
    "merged_df_en = rename_columns_en(merged_df_en)\n",
    "\n",
    "\n",
    "\n",
    "#\n",
    "# Map names to ct_student_id + remove names + remove comments\n",
    "#\n",
    "sys.path.append(os.path.abspath(os.path.join(os.getcwd(), \"../private_data/dictionaries_student_data/\")))\n",
    "from dictionary_students_en import dictionary_students_en\n",
    "\n",
    "merged_df_en.insert(2, \"ct_student_id\", None) # add column \"ct_student_id\"\n",
    "for student_name, cohort_id in dictionary_students_en.items():\n",
    "    merged_df_en.loc[merged_df_en['name'].str.strip() == student_name.strip(), \"ct_student_id\"] = cohort_id\n",
    "\n",
    "#\n",
    "# Adding \"cohort_language\" column with \"EN\" value for English cohorts\n",
    "#\n",
    "merged_df_en.insert(4, \"cohort_language\", \"EN\")\n",
    "\n",
    "\n",
    "#\n",
    "# Remove columns that may contain personal data\n",
    "#\n",
    "\n",
    "merged_df_en.drop(\"name\", axis=1, inplace=True)\n",
    "merged_df_en.drop(\"final_comments\", axis=1, inplace=True)\n",
    "merged_df_en.drop(\"Marca temporal\", axis=1, inplace=True)\n",
    "\n",
    "\n",
    "#\n",
    "# test\n",
    "#\n",
    "# pd.set_option('display.max_rows', None)\n",
    "#display(merged_df_en)"
   ]
  },
  {
   "cell_type": "markdown",
   "metadata": {},
   "source": [
    "## Join results from English + Spanish cohorts"
   ]
  },
  {
   "cell_type": "code",
   "execution_count": null,
   "metadata": {},
   "outputs": [],
   "source": [
    "es_data_translated = pd.read_excel(\"../private_data/data/survey_results_es/es_data_translated.xlsx\")"
   ]
  },
  {
   "cell_type": "code",
   "execution_count": null,
   "metadata": {},
   "outputs": [],
   "source": [
    "# NOTE: add cohort language if needed here\n",
    "merged_df_en_es = pd.concat([es_data_translated, merged_df_en])"
   ]
  },
  {
   "cell_type": "code",
   "execution_count": null,
   "metadata": {},
   "outputs": [],
   "source": [
    "merged_df_en_es.to_excel(\"../private_data/data/survey_results_aggregated/data.xlsx\", index=False)"
   ]
  }
 ],
 "metadata": {
  "kernelspec": {
   "display_name": "Python 3",
   "language": "python",
   "name": "python3"
  },
  "language_info": {
   "codemirror_mode": {
    "name": "ipython",
    "version": 3
   },
   "file_extension": ".py",
   "mimetype": "text/x-python",
   "name": "python",
   "nbconvert_exporter": "python",
   "pygments_lexer": "ipython3",
   "version": "3.13.2"
  }
 },
 "nbformat": 4,
 "nbformat_minor": 2
}
